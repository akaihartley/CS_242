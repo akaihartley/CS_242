{
 "cells": [
  {
   "cell_type": "code",
   "execution_count": 23,
   "id": "d36a72b0-cc5e-4e66-a39e-1bdf841f9f1b",
   "metadata": {},
   "outputs": [
    {
     "name": "stdout",
     "output_type": "stream",
     "text": [
      "Missing values:\n",
      "Unnamed: 0    0\n",
      "id            0\n",
      "title         0\n",
      "summary       0\n",
      "published     0\n",
      "authors       0\n",
      "pdf_link      0\n",
      "pdf_text      0\n",
      "dtype: int64\n",
      "No Duplicates: 13384\n",
      "Duplicate rows True/False:\n",
      "0        False\n",
      "1        False\n",
      "2        False\n",
      "3        False\n",
      "4        False\n",
      "         ...  \n",
      "13379    False\n",
      "13380    False\n",
      "13381    False\n",
      "13382    False\n",
      "13383    False\n",
      "Length: 13384, dtype: bool\n",
      "   Unnamed: 0                                       id   \n",
      "0           0  http://arxiv.org/abs/cond-mat/0102536v1  \\\n",
      "1           1         http://arxiv.org/abs/0710.5276v1   \n",
      "2           2         http://arxiv.org/abs/0912.3431v1   \n",
      "3           3  http://arxiv.org/abs/cond-mat/0312522v1   \n",
      "4           4  http://arxiv.org/abs/cond-mat/0105367v1   \n",
      "\n",
      "                                               title   \n",
      "0  Impact of Electron-Electron Cusp on Configurat...  \\\n",
      "1  Electronegativity in quantum electronic transport   \n",
      "2  Comment on \"Electron transport through correla...   \n",
      "3                      Correlated Electron Transport   \n",
      "4     Many-Electron Systems with Constrained Current   \n",
      "\n",
      "                                             summary             published   \n",
      "0  The effect of the electron-electron cusp on th...  2001-02-28T20:12:09Z  \\\n",
      "1  Electronegativity is shown to control charge t...  2007-10-28T11:27:36Z   \n",
      "2  The many electron correlated scattering (MECS)...  2009-12-17T18:05:36Z   \n",
      "3  Theoretical and experimental values to date fo...  2003-12-19T11:56:11Z   \n",
      "4  A formulation for transport in an inhomogeneou...  2001-05-18T09:02:21Z   \n",
      "\n",
      "                                             authors   \n",
      "0  ['David Prendergast', 'M. Nolan', 'Claudia Fil...  \\\n",
      "1      ['R. J. Bartlett', 'G. Fagas', 'J. C. Greer']   \n",
      "2          ['J. C. Greer', 'P. Delaney', 'G. Fagas']   \n",
      "3                      ['P. Delaney', 'J. C. Greer']   \n",
      "4                     ['D. S. Kosov', 'J. C. Greer']   \n",
      "\n",
      "                                  pdf_link   \n",
      "0  http://arxiv.org/pdf/cond-mat/0102536v1  \\\n",
      "1         http://arxiv.org/pdf/0710.5276v1   \n",
      "2         http://arxiv.org/pdf/0912.3431v1   \n",
      "3  http://arxiv.org/pdf/cond-mat/0312522v1   \n",
      "4  http://arxiv.org/pdf/cond-mat/0105367v1   \n",
      "\n",
      "                                            pdf_text  \n",
      "0  ['arXiv:cond-mat/0102536v1  [cond-mat.str-el] ...  \n",
      "1  ['arXiv:0710.5276v1  [cond-mat.mes-hall]  28 O...  \n",
      "2  ['Comment on \\\\Electron transport through corr...  \n",
      "3  ['arXiv:cond-mat/0312522v1  19 Dec 2003Correla...  \n",
      "4  ['arXiv:cond-mat/0105367v1  18 May 2001Many-El...  \n",
      "Number of missing values in 'published' column: 0\n",
      "Old 'published' column:\n",
      "0    2001-02-28T20:12:09Z\n",
      "1    2007-10-28T11:27:36Z\n",
      "2    2009-12-17T18:05:36Z\n",
      "3    2003-12-19T11:56:11Z\n",
      "4    2001-05-18T09:02:21Z\n",
      "Name: published, dtype: object\n",
      "New 'published' column:\n",
      "0    02/28/2001\n",
      "1    10/28/2007\n",
      "2    12/17/2009\n",
      "3    12/19/2003\n",
      "4    05/18/2001\n",
      "Name: published, dtype: object\n",
      "                                        id   \n",
      "0  http://arxiv.org/abs/cond-mat/0102536v1  \\\n",
      "1         http://arxiv.org/abs/0710.5276v1   \n",
      "2         http://arxiv.org/abs/0912.3431v1   \n",
      "3  http://arxiv.org/abs/cond-mat/0312522v1   \n",
      "4  http://arxiv.org/abs/cond-mat/0105367v1   \n",
      "\n",
      "                                               title   \n",
      "0  Impact of Electron-Electron Cusp on Configurat...  \\\n",
      "1  Electronegativity in quantum electronic transport   \n",
      "2  Comment on \"Electron transport through correla...   \n",
      "3                      Correlated Electron Transport   \n",
      "4     Many-Electron Systems with Constrained Current   \n",
      "\n",
      "                                             summary   published   \n",
      "0  The effect of the electron-electron cusp on th...  02/28/2001  \\\n",
      "1  Electronegativity is shown to control charge t...  10/28/2007   \n",
      "2  The many electron correlated scattering (MECS)...  12/17/2009   \n",
      "3  Theoretical and experimental values to date fo...  12/19/2003   \n",
      "4  A formulation for transport in an inhomogeneou...  05/18/2001   \n",
      "\n",
      "                                             authors   \n",
      "0  ['David Prendergast', 'M. Nolan', 'Claudia Fil...  \\\n",
      "1      ['R. J. Bartlett', 'G. Fagas', 'J. C. Greer']   \n",
      "2          ['J. C. Greer', 'P. Delaney', 'G. Fagas']   \n",
      "3                      ['P. Delaney', 'J. C. Greer']   \n",
      "4                     ['D. S. Kosov', 'J. C. Greer']   \n",
      "\n",
      "                                  pdf_link   \n",
      "0  http://arxiv.org/pdf/cond-mat/0102536v1  \\\n",
      "1         http://arxiv.org/pdf/0710.5276v1   \n",
      "2         http://arxiv.org/pdf/0912.3431v1   \n",
      "3  http://arxiv.org/pdf/cond-mat/0312522v1   \n",
      "4  http://arxiv.org/pdf/cond-mat/0105367v1   \n",
      "\n",
      "                                            pdf_text  \n",
      "0  ['arXiv:cond-mat/0102536v1  [cond-mat.str-el] ...  \n",
      "1  ['arXiv:0710.5276v1  [cond-mat.mes-hall]  28 O...  \n",
      "2  ['Comment on \\\\Electron transport through corr...  \n",
      "3  ['arXiv:cond-mat/0312522v1  19 Dec 2003Correla...  \n",
      "4  ['arXiv:cond-mat/0105367v1  18 May 2001Many-El...  \n"
     ]
    }
   ],
   "source": [
    "%run Full_arXiv_data_clean6.ipynb"
   ]
  },
  {
   "cell_type": "code",
   "execution_count": 25,
   "id": "b0f10da1-445b-4a3c-9fbb-17a6d334ed8f",
   "metadata": {},
   "outputs": [
    {
     "name": "stdout",
     "output_type": "stream",
     "text": [
      "                                            id   \n",
      "0      http://arxiv.org/abs/cond-mat/0102536v1  \\\n",
      "1             http://arxiv.org/abs/0710.5276v1   \n",
      "2             http://arxiv.org/abs/0912.3431v1   \n",
      "3      http://arxiv.org/abs/cond-mat/0312522v1   \n",
      "4      http://arxiv.org/abs/cond-mat/0105367v1   \n",
      "...                                        ...   \n",
      "13379        http://arxiv.org/abs/1701.04875v1   \n",
      "13380        http://arxiv.org/abs/1510.00194v2   \n",
      "13381         http://arxiv.org/abs/0808.2535v1   \n",
      "13382         http://arxiv.org/abs/1210.1503v2   \n",
      "13383         http://arxiv.org/abs/1303.6975v3   \n",
      "\n",
      "                                                   title   \n",
      "0      Impact of Electron-Electron Cusp on Configurat...  \\\n",
      "1      Electronegativity in quantum electronic transport   \n",
      "2      Comment on \"Electron transport through correla...   \n",
      "3                          Correlated Electron Transport   \n",
      "4         Many-Electron Systems with Constrained Current   \n",
      "...                                                  ...   \n",
      "13379  Nowhere differentiable functions with respect ...   \n",
      "13380  Nonlocal dynamics and infinite non-relativisti...   \n",
      "13381  High Kondo temperature (TK ~ 80 K) in self-ass...   \n",
      "13382  Semiclassical expansion of the Slater sum for ...   \n",
      "13383  Possible Emission of Cosmic $X$-- and $γ$--ray...   \n",
      "\n",
      "                                                 summary   published   \n",
      "0      The effect of the electron-electron cusp on th...  02/28/2001  \\\n",
      "1      Electronegativity is shown to control charge t...  10/28/2007   \n",
      "2      The many electron correlated scattering (MECS)...  12/17/2009   \n",
      "3      Theoretical and experimental values to date fo...  12/19/2003   \n",
      "4      A formulation for transport in an inhomogeneou...  05/18/2001   \n",
      "...                                                  ...         ...   \n",
      "13379  Let $\\Omega$ be a bounded domain in $\\mathbb{C...  01/17/2017   \n",
      "13380  We study the symmetry of the class of nonlocal...  10/01/2015   \n",
      "13381  We have fabricated single electron tunneling s...  08/19/2008   \n",
      "13382  We consider hamiltonian systems with spatially...  10/04/2012   \n",
      "13383  Not all astrophysical mechanisms of the emissi...  03/27/2013   \n",
      "\n",
      "                                                 authors   \n",
      "0      ['David Prendergast', 'M. Nolan', 'Claudia Fil...  \\\n",
      "1          ['R. J. Bartlett', 'G. Fagas', 'J. C. Greer']   \n",
      "2              ['J. C. Greer', 'P. Delaney', 'G. Fagas']   \n",
      "3                          ['P. Delaney', 'J. C. Greer']   \n",
      "4                         ['D. S. Kosov', 'J. C. Greer']   \n",
      "...                                                  ...   \n",
      "13379                    ['K. Kavvadias', 'K. Makridis']   \n",
      "13380            ['K. Andrzejewski', 'K. Bolonek-Lason']   \n",
      "13381                      ['K. Shibata', 'K. Hirakawa']   \n",
      "13382                     ['K. Berkane', 'K. Bencheikh']   \n",
      "13383                  ['K. Urbanowski', 'K. Raczynska']   \n",
      "\n",
      "                                      pdf_link   \n",
      "0      http://arxiv.org/pdf/cond-mat/0102536v1  \\\n",
      "1             http://arxiv.org/pdf/0710.5276v1   \n",
      "2             http://arxiv.org/pdf/0912.3431v1   \n",
      "3      http://arxiv.org/pdf/cond-mat/0312522v1   \n",
      "4      http://arxiv.org/pdf/cond-mat/0105367v1   \n",
      "...                                        ...   \n",
      "13379        http://arxiv.org/pdf/1701.04875v1   \n",
      "13380        http://arxiv.org/pdf/1510.00194v2   \n",
      "13381         http://arxiv.org/pdf/0808.2535v1   \n",
      "13382         http://arxiv.org/pdf/1210.1503v2   \n",
      "13383         http://arxiv.org/pdf/1303.6975v3   \n",
      "\n",
      "                                                pdf_text  \n",
      "0      ['arXiv:cond-mat/0102536v1  [cond-mat.str-el] ...  \n",
      "1      ['arXiv:0710.5276v1  [cond-mat.mes-hall]  28 O...  \n",
      "2      ['Comment on \\\\Electron transport through corr...  \n",
      "3      ['arXiv:cond-mat/0312522v1  19 Dec 2003Correla...  \n",
      "4      ['arXiv:cond-mat/0105367v1  18 May 2001Many-El...  \n",
      "...                                                  ...  \n",
      "13379  ['arXiv:1701.04875v1  [math.CV]  17 Jan 2017No...  \n",
      "13380  ['arXiv:1510.00194v2  [hep-th]  22 Dec 2015Non...  \n",
      "13381  [' 1High Kondo temperature ( TK ~ 80 K) in sel...  \n",
      "13382  ['arXiv:1210.1503v2  [quant-ph]  26 Apr 2013Se...  \n",
      "13383  ['arXiv:1303.6975v3  [astro-ph.HE]  15 Mar 201...  \n",
      "\n",
      "[13384 rows x 7 columns]\n"
     ]
    }
   ],
   "source": [
    "print(loaded_df)"
   ]
  },
  {
   "cell_type": "code",
   "execution_count": 37,
   "id": "1f2322e3-4d5e-4b19-8210-4c0dba8a6dd3",
   "metadata": {},
   "outputs": [
    {
     "name": "stdout",
     "output_type": "stream",
     "text": [
      "id           object\n",
      "title        object\n",
      "summary      object\n",
      "published    object\n",
      "authors      object\n",
      "pdf_link     object\n",
      "pdf_text     object\n",
      "dtype: object\n"
     ]
    }
   ],
   "source": [
    "datatype = loaded_df.dtypes\n",
    "print (datatype)"
   ]
  },
  {
   "cell_type": "code",
   "execution_count": 27,
   "id": "047e9533-ac46-4834-9806-83af61d3c80b",
   "metadata": {},
   "outputs": [
    {
     "ename": "TypeError",
     "evalue": "decoding to str: need a bytes-like object, DataFrame found",
     "output_type": "error",
     "traceback": [
      "\u001b[1;31m---------------------------------------------------------------------------\u001b[0m",
      "\u001b[1;31mTypeError\u001b[0m                                 Traceback (most recent call last)",
      "Cell \u001b[1;32mIn[27], line 1\u001b[0m\n\u001b[1;32m----> 1\u001b[0m \u001b[38;5;28;43mstr\u001b[39;49m\u001b[43m(\u001b[49m\u001b[43mloaded_df\u001b[49m\u001b[43m,\u001b[49m\u001b[43m \u001b[49m\u001b[43mencoding\u001b[49m\u001b[43m \u001b[49m\u001b[38;5;241;43m=\u001b[39;49m\u001b[38;5;124;43m'\u001b[39;49m\u001b[38;5;124;43mutf-8\u001b[39;49m\u001b[38;5;124;43m'\u001b[39;49m\u001b[43m,\u001b[49m\u001b[43m \u001b[49m\u001b[43merrors\u001b[49m\u001b[43m \u001b[49m\u001b[38;5;241;43m=\u001b[39;49m\u001b[38;5;124;43m'\u001b[39;49m\u001b[38;5;124;43mstrict\u001b[39;49m\u001b[38;5;124;43m'\u001b[39;49m\u001b[43m)\u001b[49m\n",
      "\u001b[1;31mTypeError\u001b[0m: decoding to str: need a bytes-like object, DataFrame found"
     ]
    }
   ],
   "source": [
    "# str(loaded_df, encoding ='utf-8', errors ='strict')"
   ]
  },
  {
   "cell_type": "code",
   "execution_count": 13,
   "id": "80b5e038-0432-40d2-83b2-b3d0d48dcd45",
   "metadata": {},
   "outputs": [
    {
     "name": "stdout",
     "output_type": "stream",
     "text": [
      "<function line at 0x000001B59A8332E0>\n"
     ]
    }
   ],
   "source": [
    "# import re\n",
    "# def line (input_string):\n",
    "    # line=line.decode('utf-8','ignore').encode(\"utf-8\")\n",
    "    # return line\n",
    "# print( line)"
   ]
  },
  {
   "cell_type": "code",
   "execution_count": 45,
   "id": "919d8779-ced0-47aa-add7-8f5332ebd442",
   "metadata": {},
   "outputs": [
    {
     "name": "stdout",
     "output_type": "stream",
     "text": [
      "id           object\n",
      "title        object\n",
      "summary      object\n",
      "published    object\n",
      "authors      object\n",
      "pdf_link     object\n",
      "pdf_text     object\n",
      "dtype: object\n"
     ]
    }
   ],
   "source": [
    "import re\n",
    "loaded_df = loaded_df.applymap(str)\n",
    "datatype = loaded_df.dtypes\n",
    "print (datatype)"
   ]
  },
  {
   "cell_type": "code",
   "execution_count": 38,
   "id": "f71fa0d9-7fc6-44cd-a847-cd969c33e4b7",
   "metadata": {},
   "outputs": [
    {
     "ename": "SyntaxError",
     "evalue": "incomplete input (3915235349.py, line 1)",
     "output_type": "error",
     "traceback": [
      "\u001b[1;36m  Cell \u001b[1;32mIn[38], line 1\u001b[1;36m\u001b[0m\n\u001b[1;33m    with open('loaded_df', encoding='utf8') as f:\u001b[0m\n\u001b[1;37m                                                 ^\u001b[0m\n\u001b[1;31mSyntaxError\u001b[0m\u001b[1;31m:\u001b[0m incomplete input\n"
     ]
    }
   ],
   "source": [
    "# with open('loaded_df', encoding='utf8') as f:"
   ]
  },
  {
   "cell_type": "code",
   "execution_count": 41,
   "id": "8ac3a5ea-46af-4a2b-865a-5c2506f1439f",
   "metadata": {},
   "outputs": [
    {
     "name": "stdout",
     "output_type": "stream",
     "text": [
      "id           object\n",
      "title        object\n",
      "summary      object\n",
      "published    object\n",
      "authors      object\n",
      "pdf_link     object\n",
      "pdf_text     object\n",
      "dtype: object\n"
     ]
    }
   ],
   "source": [
    "loaded_df = loaded_df.applymap(lambda x: str(x))\n",
    "print(loaded_df.dtypes)"
   ]
  },
  {
   "cell_type": "code",
   "execution_count": 52,
   "id": "7ce9478e-4506-4a0d-8172-b5264affde9f",
   "metadata": {},
   "outputs": [
    {
     "name": "stdout",
     "output_type": "stream",
     "text": [
      "Column: id, Unique Data Types: [<class 'str'>]\n",
      "Column: title, Unique Data Types: [<class 'str'>]\n",
      "Column: summary, Unique Data Types: [<class 'str'>]\n",
      "Column: published, Unique Data Types: [<class 'str'>]\n",
      "Column: authors, Unique Data Types: [<class 'str'>]\n",
      "Column: pdf_link, Unique Data Types: [<class 'str'>]\n",
      "Column: pdf_text, Unique Data Types: [<class 'str'>]\n",
      "Column: cleaned_pdf_text, Unique Data Types: [<class 'str'>]\n"
     ]
    }
   ],
   "source": [
    "for column in loaded_df.columns:\n",
    "    unique_types = loaded_df[column].apply(type).unique()\n",
    "    print(f\"Column: {column}, Unique Data Types: {unique_types}\")\n",
    "    "
   ]
  },
  {
   "cell_type": "code",
   "execution_count": 43,
   "id": "93780783-5dad-4d03-91e4-21274e4823de",
   "metadata": {},
   "outputs": [],
   "source": [
    "loaded_df = loaded_df.astype(str)"
   ]
  },
  {
   "cell_type": "code",
   "execution_count": 44,
   "id": "100e2410-a712-442b-8151-e18ebf0cdcd3",
   "metadata": {},
   "outputs": [
    {
     "name": "stdout",
     "output_type": "stream",
     "text": [
      "id           object\n",
      "title        object\n",
      "summary      object\n",
      "published    object\n",
      "authors      object\n",
      "pdf_link     object\n",
      "pdf_text     object\n",
      "dtype: object\n"
     ]
    }
   ],
   "source": [
    "print(loaded_df.dtypes)"
   ]
  },
  {
   "cell_type": "code",
   "execution_count": 46,
   "id": "c1185713-bfee-4423-8c1a-6f7c788f5c8c",
   "metadata": {},
   "outputs": [
    {
     "data": {
      "text/plain": [
       "\"['arXiv:cond-mat/0102536v1  [cond-mat.str-el]  28 Feb 2001Impact of Electron-Electron Cusp on Conﬁguration Interact ion Energies\\\\nDavid Prendergast,a)M. Nolan,b)Claudia Filippi,a)Stephen Fahy,a)and J.C. Greerb)\\\\na)Department of Physics andb)NMRC, University College, Cork, Ireland\\\\n(February 1, 2008)\\\\nThe eﬀect of the electron-electron cusp on the convergence o f conﬁguration interaction (CI) wave\\\\nfunctions is examined. By analogy with the pseudopotential approach for electron-ion interactions,\\\\nan eﬀective electron-electron interaction is developed wh ich closely reproduces the scattering of\\\\nthe Coulomb interaction but is smooth and ﬁnite at zero elect ron-electron separation. The exact\\\\nmany-electron wave function for this smooth eﬀective inter action has no cusp at zero electron-\\\\nelectron separation. We perform CI and quantum Monte Carlo c alculations for He and Be atoms,\\\\nboth with the Coulomb electron-electron interaction and wi th the smooth eﬀective electron-electron\\\\ninteraction. We ﬁnd that convergence of the CI expansion of t he wave function for the smooth\\\\nelectron-electron interaction is not signiﬁcantly improv ed compared with that for the divergent\\\\nCoulomb interaction for energy diﬀerences on the order of 1 m Hartree. This shows that, contrary to\\\\npopular belief, description of the electron-electron cusp is not a limiting factor, to within chemical\\\\naccuracy, for CI calculations.\\\\nI. INTRODUCTION\\\\nThe primary diﬃculty in solving the Schr¨ odinger equa-\\\\ntion for many-electron systems arises from the presence\\\\nof the electron-electron interaction, which results in a\\\\nproblem non-separable in the electron coordinates. Con-\\\\nﬁguration interaction (CI) calculations use an expansion\\\\nof the many-body wave function in conﬁguration state\\\\nfunctions (CSF) given by spin coupled sums of determi-\\\\nnants built from single-particle orbitals. One of the cen-\\\\ntral diﬃculties for the convergence of the CI expansion\\\\nis thought to arise from the behaviour of the Coulomb\\\\ninteraction at small electron-electron separations [1–10 ].\\\\nThe many-body wave function must have an appropriate\\\\ncusp at electron coalescences so that the inﬁnite Coulomb\\\\ninteraction term is exactly cancelled by an opposite di-\\\\nvergence of the kinetic energy [11].\\\\nIt is often stated in the literature that failure of the\\\\nCI expansion to reproduce the correct electron cusp, i.e.\\\\nthe short-range part of the Coulomb hole, leads to a slow\\\\nconvergence in the energy with respect to the number\\\\nof CSF’s [3]. While this has been shown [2,5] in the\\\\nasymptotic regime (i.e. very large angular momentum l\\\\nand energy errors of the order of 10−6Hartree), it is not\\\\nclear that it applies in the practical regime (mHartree\\\\naccuracy) for multi-electron systems.\\\\nExplicit inclusion of terms in the interelectronic dis-\\\\ntance (r 12methods) [12,4] or the use of correlated (gem-\\\\ninal) Gaussian basis functions [13] signiﬁcantly improve\\\\nthe convergence of a CI calculation. For the helium atom,\\\\nthe inclusion of r 12terms [5] yields an expansion in partial\\\\nwaves converging asymtotically as l−6or better, instead\\\\nof a slow l−3, where lis the maximum angular momentum\\\\nin the expansion. Baker et al.[14] also showed that using\\\\nbasis functions with the same analytic structure as the\\\\ntrue wave function (depending on powers and logarithms\\\\nofr12) leads to a reduced expansion length. The suc-\\\\ncess of methods explicitly including r12terms has beenattributed to their correct description of the short-range\\\\npart of the interaction.\\\\nA completely diﬀerent point of view, taken by Gilbert\\\\nin 1963 [15], is that the diﬃculty of CI wave functions in\\\\ndescribing short-range eﬀects of the cusp are energeticall y\\\\nunimportant and that the beneﬁt of the explicitly corre-\\\\nlated approach is that the entire Coulomb hole, with a\\\\nsize on the order of the atomic orbitals, is much easier to\\\\ndescribe in terms of interelectronic coordinates. Gilbert ’s\\\\nsuggestion appears to have received little attention and\\\\nthe idea that smoothing out the Coulomb potential and\\\\nremoving the cusp altogether will automatically lead to\\\\nan improved CI convergence has been stated in the liter-\\\\nature [16,9]. However, no systematic studies of the eﬀect\\\\nof the electron cusp on CI energy convergence at the level\\\\nof interest for chemical accuracy (1 mHartree for total\\\\nenergies) have been presented.\\\\nIn this paper, we explore whether a signiﬁcant im-\\\\nprovement in the convergence of the CI expansion is\\\\nobtained when the true Hamiltonian is replaced by one\\\\nwhich has a smooth and ﬁnite electron-electron interac-\\\\ntion (pseudo-interaction) at short distances and, conse-\\\\nquently, smooth eigenfunctions with no cusps.\\\\nSurprisingly, in calculations for the He and Be atoms,\\\\nwe ﬁnd that removing the divergence of the Coulomb\\\\npotential at electron-electron coalescences does not sig-\\\\nniﬁcantly reduce the length of the CI expansion, thereby\\\\nsubstantiating the argument put forward by Gilbert [15]\\\\nthat the slow convergence should be attributed to dif-\\\\nﬁculties in describing, not the interelectron cusp, but\\\\nthe intermediate-range electronic correlation. The poor\\\\ntreatment of the interelectron cusp in the CI expansion is\\\\nnot a limiting factor at the mHartree level of accuracy on\\\\nthe total energy. To further conﬁrm this result, we calcu-\\\\nlate the energy within quantum Monte Carlo (QMC) for\\\\nthe true electron-electron interaction with accurate wave\\\\nfunctions which explicitly contain interelectronic coord i-\\\\nnates, and then deliberately remove the short-range cor-\\\\n1', 'relation term related to the cusp, keeping other parts\\\\nof the wave function unchanged. We ﬁnd that the re-\\\\nmoval of the cusp has a very small eﬀect on the vari-\\\\national energy. Finally, we demonstrate that the con-\\\\nvergence behavior of the CI expansion as a function of\\\\nangular momentum in the range practical for many ap-\\\\nplications ( l <6) is largely unaﬀected by the smoothing\\\\nof the electron cusps. Therefore, the angular momentum\\\\nconvergence numerically observed by other authors [7] is\\\\nrelated to problems associated with intermediate range\\\\ncorrelations, not the cusp region as such.\\\\nIn Sec. II, we describe the pseudopotential used for\\\\nthe electron-electron interaction and brieﬂy present the\\\\nQMC and CI methods. In Sec. III, we report the QMC\\\\nand CI energies for He and Be atoms using the true and\\\\npseudo electron interaction. In Appendices A and B,\\\\nwe discuss the numerical generation and accuracy of the\\\\nelectron pseudo-interaction, and in Appendix C we deﬁne\\\\na short-range correlation term which can be associated\\\\nwith it. In Appendix D, we brieﬂy discuss the evaluation\\\\nof two-electron integrals for the pseudo-interaction.\\\\nII. COMPUTATIONAL METHODS\\\\nA. Electron-electron Pseudo-interaction\\\\nWhen modifying the short-distance electron-electron\\\\ninteraction, we wish to keep the intermediate- and long-\\\\nrange correlation properties of the many-body eigen-\\\\nstates unchanged. This will allow us to isolate systemati-\\\\ncally the eﬀects of the short-range cusp-like behaviour in\\\\nthe wave function. To achieve this, our new (smooth) in-\\\\nteraction should ideally have electron-electron scatteri ng\\\\nproperties identical to the true interaction for all ener-\\\\ngies. If this were the case, all many-electron eigenvalues\\\\nwould be identical for both interactions. While this ideal\\\\ncannot be exactly realized, we expect that a potential\\\\nwith the same scattering properties as the true interac-\\\\ntion over a suﬃciently wide range of scattering energies\\\\nwill give many-electron eigenvalues very close to the true\\\\nones.\\\\nThis goal for electron-electron scattering is analogous\\\\nto the problem of electron-ion scattering addressed in the\\\\nwell-established pseudopotential method [17]. In that ap-\\\\nproach, the aim is to produce a smooth electron-ion po-\\\\ntential which reproduces the single-particle eigenvalues\\\\nof the true system over a range of energies, and has the\\\\nsame single-particle wave functions outside some suitably\\\\nchosen cut-oﬀ radius rc. Such pseudopotentials are gen-\\\\nerated for the isolated atom but may then be used with a\\\\nhigh level of accuracy in molecules and solids. In solids,\\\\nthe smoothness of the potential greatly improves the con-\\\\nvergence of plane-wave expansions for single-particle or-\\\\nbitals [18].\\\\nFollowing the success of norm-conserving pseudopo-\\\\ntential methods in the context of the electron-ion scat-0.0 0.1 0.2 0.3 0.4 0.5\\\\nr (a.u.)0246810interaction energy (Hartree)Vps interaction\\\\nVerf interaction\\\\nCoulomb interaction\\\\nFIG. 1. Norm-conserving electron pseudo-interaction\\\\n(solid line) and smooth interaction Verf(dashed line), each\\\\nwith a cut-oﬀ radius rc= 0.25 a.u. (indicated by a vertical\\\\ndotted line), and the true 1 /rinteraction (dash-dot line), as\\\\nfunctions of the electron separation r.\\\\ntering problem, we generate a norm-conserving pseudo-\\\\ninteraction for the two-electron scattering problem,\\\\nwhich will replace the true e2/relectron-electron interac-\\\\ntion inside a cut-oﬀ radius rc. Since the electron-electron\\\\ninteraction is repulsive and has no bound states for an\\\\nisolated pair of electrons, we use, with some minor mod-\\\\niﬁcations, the generalized norm-conserving method de-\\\\nvised by Hamann [19] to generate pseudopotentials for\\\\nelectron-ion interactions at unbound, scattering state en -\\\\nergies. The numerical details of this approach are pre-\\\\nsented in Appendix A.\\\\nIn Fig. 1, we show a pseudo-interaction potential Vps\\\\ngenerated by this approach, along with the true e2/rin-\\\\nteraction and a smooth but not norm-conserving inter-\\\\naction, Verf(r) =e2erf(r/rc)/r, as used by Savin and\\\\ncoworkers [20] in a diﬀerent context. In Appendix B, the\\\\naccuracy of such scattering potentials in reproducing the\\\\nexact eigenstate energies is analyzed qualitatively using\\\\nﬁrst-order perturbation theory. In Appendix C, we de-\\\\nﬁne a short-range inter-electronic correlation term, whic h\\\\ncan be directly related to the replacement of the divergent\\\\nCoulomb interaction with a smooth norm-conserving in-\\\\nteraction.\\\\nB. Quantum Monte Carlo Calculations\\\\nWe employ QMC methods to determine accurate en-\\\\nergies both for the Coulomb and the pseudo-interaction.\\\\nThe wave functions Ψ used in QMC are of the form given\\\\nin Ref. [21] and explicitly depend on the inter-electronic\\\\n2', 'coordinates. They include parameterized terms to de-\\\\nscribe electron-nucleus, electron-electron and electron -\\\\nelectron-nucleus correlation, as follows:\\\\nΨ =/parenleftBigg/summationdisplay\\\\nndnD↑\\\\nnD↓\\\\nn/parenrightBigg\\\\nJ(ri, rj, rij). (1)\\\\nD↑\\\\nnand D↓\\\\nnare the Slater determinants of single particle\\\\norbitals for the spin-up and down electrons, respectively,\\\\nandJis a Jastrow factor of the form,\\\\nJ(ri, rj, rij) =/productdisplay\\\\niexp (Ai)/productdisplay\\\\nijexp (Bij)/productdisplay\\\\nijexp(Pij),(2)\\\\nwhere Ais an electron-nuclear term (which could be\\\\nomitted if a suﬃciently large single particle basis were\\\\nused in constructing the determinantal part), Bis an\\\\nelectron-electron term incorporating the cusp at small\\\\nrij, and Pis a smooth function of the electron coordi-\\\\nnates, riandrj, as discussed in detail in Ref. [21]. For\\\\nthe pseudo-interaction calculations, the Bterm is omit-\\\\nted. The parameters in the determinant and Jastrow\\\\nfactor are optimized within QMC using the variance min-\\\\nimisation method [22] and the accuracy is tested at the\\\\nvariational level. The wave function is then used in dif-\\\\nfusion Monte Carlo (DMC), which produces the best en-\\\\nergy within the ﬁxed-node approximation (i.e. the lowest-\\\\nenergy state with the same nodes as the trial wave func-\\\\ntion).\\\\nFor a given interaction, this method yields the ex-\\\\nact eigenvalue (within statistical sampling noise) for the\\\\nground state of the He isoelectronic series since the sin-\\\\nglet ground state wave function of a two-electron system\\\\nis nodeless. For He, only one determinant is used in the\\\\nwave function. For the Be atom, the 2s and 2p conﬁgura-\\\\ntions are included in the determinantal part of the wave\\\\nfunction and DMC gives the best energy subject to the\\\\nﬁxed-node condition. To isolate the eﬀect of the pseudo-\\\\ninteraction from the ﬁxed-node approximation, we keep\\\\nthe nodal structure of the wave function ﬁxed while mod-\\\\nifying the electron-electron interaction.\\\\nC. Conﬁguration Interaction Calculations\\\\nThe CI calculations are performed using the Monte\\\\nCarlo conﬁguration interaction (MCCI) method [23,24].\\\\nIn a MCCI calculation, a coeﬃcient threshold cminis de-\\\\nﬁned, conﬁgurations are randomly generated, and, after\\\\na variational calculation, coeﬃcients of magnitude be-\\\\nlowcminare rejected. This procedure is repeated until\\\\na desired degree of convergence in the CI calculation is\\\\nachieved. A full CI (FCI) calculation can be obtained for\\\\ncmin= 0. The fact that the MCCI procedure does not\\\\nrely on a pre-selection of CSF’s makes it well-suited for\\\\nour study: the dynamical selection of conﬁgurations al-\\\\nlows for rejection of CSF’s which may no longer be needed\\\\nwith the smooth electron interaction.For use in the CI approach, the pseudo-interaction Vps\\\\nis represented (in Hartree atomic units) as a sum of the\\\\nsmooth function VerfplusnGGaussian terms, as follows:\\\\nVps(r) =erf(r/rc)\\\\nr+nG/summationdisplay\\\\ni=1ciexp(−dir2). (3)\\\\nThis reproduces the 1 /rtail of the Coulomb interaction\\\\nand the smooth, ﬁnite form of the pseudo-interaction at\\\\nshort distances. The parameters cianddiare found by\\\\nleast-squares ﬁtting (for radii r <3rc) to the numerical\\\\npotential, generated as described in Appendix A. For\\\\nthe CI results presented below, the potential was ﬁtted\\\\nusing nG= 9. QMC calculations of the He atom energy\\\\nwith the numerical potential and with the ﬁtted potential\\\\nshow a negligible diﬀerence (less than 0 .02 mHartree for\\\\nall values of rc<1 a.u.).\\\\nEvaluation of the pseudo-interaction Vps(r) can be im-\\\\nplemented in codes for Gaussian integral calculation since\\\\nit is possible to compute the two-body matrix elements\\\\nboth of exp( −d r2) and erf( r/rc)/rin the CI basis. Ma-\\\\ntrix elements of the interaction erf( r/rc)/rfor all s-type\\\\nbasis functions have already been given in Ref. [20]. For\\\\nboth types of interaction, a simple modiﬁcation to the\\\\nintegral codes is possible if the standard two-electron in-\\\\ntegrals are calculated using the method of Rys quadra-\\\\nture [25]. Details of two-body integral evaluation with\\\\nthe modiﬁed form of the electron interaction are given in\\\\nAppendix D.\\\\nIII. He AND Be ATOMIC ENERGIES WITH\\\\nPSEUDO-INTERACTIONS\\\\nTo test the impact of the interelectron cusp on the en-\\\\nergy, we calculate the total energies of He and Be atoms,\\\\nreplacing the true 1 /relectron interaction with the norm-\\\\nconserving pseudo-interaction Vps(r), generated for var-\\\\nious values of the cut-oﬀ radius rc. For comparison,\\\\nwe also present results for the smooth but not norm-\\\\nconserving potential Verf(r) = erf( r/rc)/r. The results\\\\nin this section are obtained from QMC and CI calcula-\\\\ntions.\\\\nA. Ground State of the He atom\\\\nIn Fig. 2, we show the singlet ground state energies of\\\\nthe He atom calculated with a norm-conserving electron-\\\\nelectron interaction Vpsgenerated as in Sec. II, for various\\\\nvalues of the cut-oﬀ radius rc. The values obtained from\\\\nQMC (exact) calculations are shown. We also plot the\\\\nenergies calculated using the Verf(r) interaction. The hor-\\\\nizontal line indicates the exact energy E0=−2.903724\\\\nHartree for the true Coulomb interaction [26].\\\\nThe calculated QMC energies for VpsandVerfin\\\\nFig. 2 are ﬁtted with polynomial expansions of the form:\\\\n3', '0.0 0.2 0.4 0.6 0.8 1.0\\\\nrc (a.u.)−2.96−2.94−2.92−2.90E (Hartree)\\\\nCuspless Ψ\\\\nVps interaction\\\\nVerf interactionHe\\\\nFIG. 2. He atom ground state energy Eas a function\\\\nof cut-oﬀ radius rc, obtained from DMC calculations using\\\\nvarious forms of the electron-electron interaction: (a) th e\\\\nnorm-conserving pseudo-interaction Vps(solid line); (b) the\\\\nsmooth interaction Verf(dashed line). The curves are poly-\\\\nnomial ﬁts to the calculated DMC values, as discussed in the\\\\ntext. The horizontal line shows the exact value [26] for the H e\\\\nground state. Also shown are variational energies, with the\\\\ntrue Coulomb interaction, upon removal of the electron cusp\\\\n(see Appendix C) from the wave function used in the DMC\\\\ncalculations (dotted line).\\\\nE(rc) =E0+ar2\\\\nc+br3\\\\nc+cr4\\\\nc+dr5\\\\nc+er6\\\\nc. As discussed\\\\nin Appendix B, any potential which diﬀers from the ex-\\\\nact 1/rinteraction would be expected, from ﬁrst order\\\\nperturbation theory, to converge at least quadratically in\\\\nrcto the exact energy E0for small rc. Since Verfis not\\\\nexplicitly constructed to eliminate ﬁrst order errors in\\\\nVerf(r)−1/r, quadratic convergence is seen for Verfand\\\\nthe ﬁtting parameters are: a=−0.3279, b=−0.3839,\\\\nc= 0.6758, d=−0.2622, and e= 0. On the other\\\\nhand, the norm-conserving pseudo-interaction construc-\\\\ntion of Sec. II A explicitly ensures that the ﬁrst-order\\\\nperturbation correction to the energy is zero. The He\\\\nground state energy as a function of rcusing Vpscan\\\\nindeed be ﬁtted without the quadratic term, and even\\\\nthe cubic term proves to be small, the polynomial coef-\\\\nﬁcients being: a= 0,b= 0.0188, c=−0.1023, d= 0,\\\\nande= 0.0280. For He, the energies obtained using\\\\nVps(r) are within 1 mHartree of the energy computed\\\\nwith the true Coulomb interaction for values of rc<0.4\\\\na.u. Since the typical electron-electron distance in the\\\\nHe ground state is of the order of 1 a.u., these results in-\\\\ndicate that the ﬁrst peak of the electron pair-distribution\\\\nfunction provides a good measure of how large a cut-oﬀ\\\\nradius rcmay be used to obtain accurate total energies\\\\nwithVps(r):rcshould be approximately half the radius\\\\nat which this ﬁrst peak occurs. The same criterion for\\\\nthe largest allowed rcvalue was found to hold for other\\\\nsystems (not shown), viz. the He triplet state, the He\\\\nisoelectronic series, and multi-electron atoms. In a qual-itative way, this condition is similar to the criterion used\\\\nin the generation of electron-ion pseudopotentials, where\\\\nthe cut-oﬀ radius is chosen to be inside the peak of the\\\\nvalence electron density.\\\\nAlso shown in Fig. 2 are the variational energies (with\\\\nthe true Coulomb electron-electron interaction) obtained\\\\nfor the He ground state by removing the electron cusps\\\\nfrom the accurate trial wave function which was deter-\\\\nmined by variance minimization for use in the DMC cal-\\\\nculations, as speciﬁed in Eq. C1. This trial wave function\\\\nincludes considerable variational freedom in the interele c-\\\\ntronic terms and obtains 100% of the correlation energy.\\\\nAs can be seen in Fig. 2, removal of the cusp out to radii\\\\nof 0.5 a.u. causes little degradation of the quality of the\\\\nenergy obtained with this wave function. Thus the suc-\\\\ncess of interelectronic terms in obtaining good variationa l\\\\nenergies is not primarily due to their description of the\\\\nshort-range cusp behaviour.\\\\nThis trend is further borne out when we look at\\\\nthe convergence of partial CI expansions within a given\\\\nsingle-particle basis set for the MCCI method. The CI\\\\ncalculations were performed with the correlation consis-\\\\ntent polarized valence double-zeta (cc-pVDZ), triple-zet a\\\\n(cc-pVTZ), quadruple-zeta (cc-pVQZ) and quintuple-\\\\nzeta (cc-pV5Z) basis sets of Dunning [27] with the elec-\\\\ntron interaction Vpsfor various values of rc. All four\\\\nbasis sets show similar behaviour and we present only\\\\nthe cc-pVQZ results in detail. Table I shows the correla-\\\\ntion energy obtained as a function of cut-oﬀ radius rcfor\\\\nvarious values of the expansion coeﬃcient threshold cmin.\\\\nThe full CI result is obtained when cmin= 0.0. For larger\\\\nvalues of the cut-oﬀ radius rc(upper rows of table), the\\\\ntotal correlation energy is smaller, as the variation of the\\\\ninteraction Vpsbecomes smaller around the typical sepa-\\\\nration distance of the electrons. However, the fraction of\\\\nthe correlation energy which is recovered at a given CI\\\\nthreshold level cmindepends little on the value of rc.\\\\nFig. 3 shows the number of CSF’s in the CI expan-\\\\nsion as a function of cut-oﬀ radius rcfor various values\\\\nof the expansion coeﬃcient threshold cmin. For values of\\\\ncmin>3×10−2, one is quickly reduced to a few CSF’s\\\\nand ﬁnally to the Hartree-Fock solution. As with the cor-\\\\nrelation energies, for a given threshold cmin, the number\\\\nof CSF’s shows relatively little change for values of rcbe-\\\\ntween 0 and 0.95. Again, it is worth bearing in mind that\\\\nthe typical electron-electron separation is 1 a.u. and that\\\\na cut-oﬀ radius rc= 0.95 represents a very smooth inter-\\\\naction. Thus, removal of electron cusps does not result\\\\nin a signiﬁcant reduction in the number of contributing\\\\nconﬁgurations in the CI expansion.\\\\nWe next demonstrate that removal of the electron cusp\\\\ndoes not signiﬁcantly change the convergence properties\\\\nof CI expansions as the highest angular momentum quan-\\\\ntum number is increased in the single particle basis sets.\\\\nIn Fig. 4, FCI energies for He are displayed against in-\\\\ncreasing basis set size in the correlation consistent serie s\\\\nfrom Dunning, and hence increasing angular momentum\\\\nnumber in the basis. The convergence in the FCI energy\\\\n4', 'TABLE I. Calculated correlation energy for the He atom with a cc-pVQZ basis set, as a function of cut-oﬀ radius rc\\\\nand the CI coeﬃcient threshold cmin. The energy units are mHartree. The right-hand column (HF −QMC) shows the full\\\\ncorrelation energy (i.e. the diﬀerence between the Hartree -Fock energy, calculated with this basis, and QMC (exact) en ergy).\\\\nThe percentages indicated are the fractions of the full CI co rrelation energy for each value of rc.\\\\nrc cmin\\\\n(a.u.) 3 ×10−22×10−21×10−21×10−31×10−40.0 HF −QMC\\\\n0.95 2.15 15.10 12.98 18.72 18.96 18.96 19.56\\\\n11.01% 77.21% 66.36% 95.69% 96.94% 96.95% 100.00%\\\\n0.80 6.09 18.45 16.93 25.11 25.16 25.16 25.76\\\\n23.66% 71.64% 65.74% 97.48% 97.67% 97.67% 100.00%\\\\n0.50 8.64 27.23 32.79 36.32 36.32 36.32 37.18\\\\n23.24% 73.24% 88.19% 97.69% 97.69% 97.69% 100.00%\\\\n0.20 14.07 28.93 35.27 40.75 40.75 40.75 41.93\\\\n33.57% 69.00% 84.13% 97.20% 97.20% 97.20% 100.00%\\\\n0.10 9.37 28.98 35.35 40.89 40.89 40.89 42.18\\\\n22.22% 68.71% 83.80% 96.94% 96.94% 96.94% 100.00%\\\\n0.00 27.44 30.61 36.09 40.90 40.90 40.90 42.21\\\\n65.01% 72.52% 85.50% 96.90% 96.90% 96.90% 100.00%\\\\n0.0 0.2 0.4 0.6 0.8 1.0\\\\nrc (a.u.)0102030405060number of CSF’scmin = 0.0001\\\\ncmin = 0.001\\\\ncmin = 0.01\\\\ncmin = 0.02\\\\ncmin = 0.03\\\\nFIG. 3. The number of conﬁguration state functions\\\\n(CSF) in the CI expansion for the He atom with the cc-pVQZ\\\\nbasis set as a function of rc. Results are presented for coeﬃ-\\\\ncient thresholds cminof 0.03, 0.02, 0.01, 0.001 and 0.0001.\\\\nwith increasing basis set size is compared for electron in-\\\\nteraction Vps, with values of the cut-oﬀ radius rcfrom 0\\\\nto 0.8. Fitting these energies to a function similar to the\\\\nasymptotic form derived in Ref. [2],\\\\nE=E0+a\\\\nL3+b\\\\nL4, (4)\\\\nwhere Lis the maximum angular momentum in the basis,\\\\ngives best values of a≈0.038 and b≈ −0.022 for each\\\\nvalue of rc≤0.2 and gives a≈0.02 and b≈ −0.01 for\\\\nrc≥0.5. Thus, the predominant 1 /L3convergence of the\\\\nenergy is present for all values of rcinvestigated here.\\\\nAlthough the asymptotic form in Eq. 4 ﬁts the results1 2 3 4\\\\nL−2.93−2.92−2.91−2.90−2.89−2.88E (Hartree)rc = 0.0\\\\nrc = 0.1\\\\nrc = 0.2\\\\nrc = 0.5\\\\nrc = 0.8\\\\nFIG. 4. Full CI energies Efor the ground state He atom\\\\nas a function of L, the maximum angular momentum in the\\\\nbasis set used, calculated using the electron interaction Vps\\\\nwith values of the cut-oﬀ radius rcfrom 0 to 0.8.\\\\nwell, the parameters aandbdo not have the asymptotic\\\\nvalues, a= 0.025 and b= 0.008, found for the angular\\\\nmomentum convergence associated with the short-range\\\\ncusp [3]. Two factors cause this discrepancy: (i) not only\\\\nhigher angular momentum functions are added as Lis in-\\\\ncreased in the Dunning basis sets; (ii) more importantly,\\\\nwe are not near the asymptotic regime, where expansion\\\\nof the short-range cusp would be the dominant energy\\\\ncorrection.\\\\n5', '0.0 0.1 0.2 0.3 0.4 0.5\\\\nrc (a.u.)−14.90−14.85−14.80−14.75−14.70−14.65 E (Hartree)\\\\nCuspless Ψ\\\\nVps interactionBe\\\\nFIG. 5. Be atom ground state energy Eas a function of\\\\ncut-oﬀ radius rc, obtained from (a) DMC calculations using\\\\nthe norm-conserving pseudo-interaction Vps(solid line); (b)\\\\nvariational calculations using the true Coulomb interacti on\\\\nupon removal of the electron cusp from the trial wave functio n\\\\n(see Appendix C) used in the DMC calculation (dashed line).\\\\nB. Ground State of the Be atom\\\\nThe qualitative nature of the CI energy convergence\\\\nseen in the previous section is not special to the He\\\\natom. Fig. 5 shows the DMC calculated ground state\\\\nenergies of Be for various cut-oﬀ radii rc. Because of the\\\\nmuch smaller radius of the 1s orbital in Be, compared to\\\\nHe, the energetically appropriate cut-oﬀ radius rcfor the\\\\npseudo-interaction is substantially smaller. Also shown\\\\nin Fig. 5 are the variational energies obtained for the Be\\\\nground state by removing the electron cusps (as deﬁned\\\\nin Eq. C1) from the accurate trial wave function which\\\\nwas determined by variance minimization for use in the\\\\nDMC calculations. This trial wave function includes in-\\\\nterelectronic terms and obtains 99.5% of the correlation\\\\nenergy. Removal of the cusp causes signiﬁcant degrada-\\\\ntion of the quality of the wave function only for rc>0.3\\\\natomic units, which is comparable to the typical sepa-\\\\nration of the 1s electrons. Thus, in Be, as in He, the\\\\nsuccess of interelectronic terms in obtaining good varia-\\\\ntional energies is not primarily due to their description\\\\nof the short-range cusp behaviour.\\\\nCI calculations using basis sets with s- and p-functions\\\\n(the TZP basis of Ahlrichs et al. [28]), s-, p- and d-\\\\nfunctions (6-311g* [29]), s-, p-, d- and f-functions (the\\\\nANO basis of Widmark et al. [30]) and s-, p-, d-, f- and\\\\ng-functions (i.e. the ANO basis, augmented with a g-\\\\nfunction with exponent 1.2) were carried out. The values\\\\nof the CI coeﬃcient threshold cminwere taken to be 10−2,\\\\n10−3and 10−4for all basis sets. Calculations were car-\\\\nried out at cut-oﬀ radii rcof 0 (i.e. Coulomb interaction),\\\\n0.1 and 0.2 a.u.\\\\nIn Tables II and III we present the correlation energy\\\\nfor Be, obtained with the TZP and ANO basis sets, re-TABLE II. Calculated correlation energy, as a function of\\\\ncut-oﬀ radius rcand CI coeﬃcient threshold cmin, for the Be\\\\natom with the TZP basis set. All energies are in mHartree.\\\\nThe right-hand column shows the QMC correlation energy\\\\n(i.e. the diﬀerence between the Hartree-Fock energy for thi s\\\\nbasis and the QMC energy) for each value of the cut-oﬀ radius\\\\nrc. The percentages indicated are the fractions of the QMC\\\\ncorrelation energy for each value of rc.\\\\nrc cmin\\\\n(a.u.) 1 ×10−21×10−31×10−4HF−QMC\\\\n0.20 51.63 60.91 61.61 99.39\\\\n51.94% 61.28% 61.99% 100.00%\\\\n0.10 51.55 60.81 61.53 95.01\\\\n54.26% 64.01% 64.76% 100.00%\\\\n0.00 56.42 61.51 62.01 94.89\\\\n59.46% 64.82% 65.35% 100.00%\\\\nTABLE III. Calculated correlation energy for the Be atom\\\\nwith the ANO basis set. The notation is the same as in Ta-\\\\nble II.\\\\nrc cmin\\\\n(a.u.) 1 ×10−21×10−31×10−4HF−QMC\\\\n0.20 53.40 71.35 74.13 90.39\\\\n59.07% 78.93% 82.01% 100.00%\\\\n0.10 42.54 71.97 74.80 94.43\\\\n45.05% 76.22% 79.21% 100.00%\\\\n0.00 58.46 72.30 74.66 93.91\\\\n62.25% 76.99% 79.50% 100.00%\\\\nspectively. Fig. 6 shows the number of CSF’s as a func-\\\\ntion of the cut-oﬀ radius rcfor various values of the CI\\\\ncoeﬃcient threshold cminin the MCCI approach. We see\\\\nthat, especially at the higher levels of accuracy (i.e. smal l\\\\ncmin), neither the fraction of the correlation energy ob-\\\\ntained nor the number of CSF’s used depend strongly on\\\\nthe cut-oﬀ radius rc. As we saw in the He atom, remov-\\\\ning the divergence of the Coulomb electron interaction\\\\ndoes not substantially change the CI energy convergence\\\\nat this level of accuracy.\\\\nIV. CONCLUSIONS\\\\nIn this paper we have directly explored the eﬀect\\\\nof the electron cusp on the convergence of the en-\\\\nergy for CI wave functions. To do so, we introduced\\\\na ﬁctitious electron-electron interaction which, unlike\\\\nthe true Coulomb potential, does not diverge at elec-\\\\ntron coalescences and therefore has many-body eigen-\\\\nfunctions which are smooth there. The smooth poten-\\\\ntial is obtained by a method analogous to the well-\\\\nestablished treatment of electron-ion interactions with\\\\n6', '0 0.1 0.2\\\\nrc (a.u.)110102103104number of CSF’s\\\\ncmin = 0.0001\\\\ncmin = 0.001\\\\ncmin = 0.01TZP\\\\nANO\\\\nFIG. 6. The number of conﬁguration state functions\\\\n(CSF) in the CI expansion for the Be atom with TZP and\\\\nANO basis sets. Results are presented for coeﬃcient thresh-\\\\noldscminof 0.01, 0.001 and 0.0001 at cut-oﬀ radii rcof 0.0,\\\\n0.1 and 0.2 a.u.\\\\nsmooth, norm-conserving pseudopotentials. These give\\\\nscattering properties very similar to the true potential\\\\nand improve the convergence of plane-wave expansions\\\\nfor single-particle wave functions. By analogy, one might\\\\nexpect that a similar treatment of the electron-electron\\\\ninteraction would improve the convergence of CI expan-\\\\nsions.\\\\nFor the He and Be atoms, we have compared the CI\\\\nexpansions of wave functions for the true, Coulomb inter-\\\\naction and for smooth pseudo-interactions between the\\\\nelectrons. We have also compared the variational en-\\\\nergies of highly accurate wave functions containing r12\\\\nterms, where the cusp condition is exactly satisﬁed, with\\\\nthe energy for the same wave functions, from which the\\\\ncusp has been deliberately removed out to a given radius.\\\\nThe main result of our study is that a description of\\\\nthe electron cusp as such is nota limiting factor in cal-\\\\nculating correlation eﬀects with conﬁguration interactio n\\\\nmethods at the mHartree level of accuracy. We are led\\\\nto this conclusion since the replacement of the diver-\\\\ngent Coulomb interaction with a ﬁnite interaction leaves\\\\nthe convergence properties largely unchanged. The slow\\\\nconvergence of CI expansions in this energy range must\\\\nbe attributed to medium-range correlations, which are\\\\npresent for both types of electron interaction. The results\\\\nobtained by explicitly removing the cusp from accurate\\\\nvariational wave functions support this conclusion, show-\\\\ning that the cusp of the wave function is not energetically\\\\nimportant. This is found, even when cusp-like behaviour\\\\nis removed out to a distance of half the typical interelec-\\\\ntronic separation.\\\\nWhen describing correlation eﬀects with explicit r12\\\\nmethods, it is a mistaken notion to assign the improve-\\\\nment in convergence to their ability to describe the short-range cusp. Rather, the improvement in convergence at\\\\nthe mHartree level must be understood in terms of a\\\\nbetter description of medium-range correlations when ex-\\\\npressed in interelectronic coordinates. This fact must be\\\\nconsidered when developing theoretical treatments of the\\\\nelectronic correlation problem.\\\\nV. ACKNOWLEDGMENTS\\\\nWe wish to thank D. R. Hamann for stimulating discus-\\\\nsions. This work has been supported by Enterprise Ire-\\\\nland Grant Number SC/98/748 and by the Irish Higher\\\\nEducation Authority.\\\\nAPPENDIX A: GENERATION OF ELECTRON\\\\nPSEUDO-INTERACTIONS\\\\nThe procedure for constructing the electron pseudo-\\\\ninteraction Vpsfollows Hamann’s construction [19] of gen-\\\\neralised norm-conserving pseudopotentials for electron-\\\\nion scattering, with two modiﬁcations: (i) Only two\\\\nparticles are involved in the generation of the electron-\\\\nelectron pseudo-interaction, so that we do not need to in-\\\\nclude screening potentials; (ii) because we are solving the\\\\nscattering problem in the centre of mass frame of the elec-\\\\ntrons and use the relative coordinate rof the electrons,\\\\nthe mass of the electron is replaced by the reduced mass\\\\nfor the two-electron system. In Hartree atomic units, the\\\\ninteraction potential is V(r) = 1/rand the reduced mass\\\\nis 1/2. The radial Schr¨ odinger equation for the relative\\\\nmotion of two electrons is then\\\\n−d2ul\\\\ndr2+/parenleftbiggl(l+ 1)\\\\nr2+ (V−ǫl)/parenrightbigg\\\\nul= 0, (A1)\\\\nwhere ul(r) isrtimes the wave function in the relative\\\\ncoordinates, with angular momentum land energy ǫl(the\\\\nkinetic energy of the separated electrons in the centre of\\\\nmass frame).\\\\nIn the generation of a pseudopotential, the true po-\\\\ntential and pseudopotential become identical outside a\\\\nsuitably chosen cut-oﬀ radius rcand are constructed to\\\\nhave identical scattering phase shifts and energy deriva-\\\\ntive of the phase shift at a reference energy ǫl. A smooth\\\\npseudo wave function ups(r) is generated numerically to\\\\nensure “norm-conservation”, i.e. ups(R∞) =ul(R∞) and\\\\n/integraldisplayR∞\\\\n0ups(r)2dr=/integraldisplayR∞\\\\n0ul(r)2dr , (A2)\\\\nfor all R∞>> r c. In practice, we choose R∞∼2.5rc,\\\\nas in Ref. [19]. Given ups, a smooth, ﬁnite pseudopo-\\\\ntential Vpsis generated by inversion of the Schr¨ odinger\\\\nEq. A1 for r < R ∞, with ulandVsubstituted by upsand\\\\nVps, respectively. We follow the steps exactly as given in\\\\n7', 'Sec. II of Ref. [19], except where the reduced mass en-\\\\nters in the ﬁnal inversion, slightly modifying Eq. 12 of\\\\nHamann’s work.\\\\nIn the norm-conserving pseudopotential approach, dif-\\\\nferent scattering potentials are often generated for diﬀer -\\\\nent values of the angular momentum l. The full many-\\\\nbody wave function is anti-symmetric with respect to ex-\\\\nchange of any two electrons. Thus, if the two electrons\\\\nhave parallel spin, the orbital part of the wave function\\\\nmust have odd parity and the allowed angular momentum\\\\nlmust be odd. Thus, the dominant parallel-spin scat-\\\\ntering has l= 1. For singlet (anti-parallel) scattering,\\\\nthe orbital part is symmetric and lmust be even, with\\\\ndominant allowed angular momentum l= 0. Following\\\\nthe usual pseudopotential approach, we might then ex-\\\\npect to generate a parallel-spin scattering potential usin g\\\\nl= 1 and an anti-parallel-spin scattering potential using\\\\nl= 0. In practice, we ﬁnd that the l= 0 potential gives\\\\ngood scattering for both angular momenta and the use\\\\nof separate parallel- and anti-parallel-spin potentials i s\\\\nunnecessary.\\\\nSince ǫlis positive, the wave function will oscillate for\\\\nlarge r, and if a node occurs for r < R ∞, the inver-\\\\nsion of the Schr¨ odinger equation will fail. Thus, the joint\\\\nrequirements, that rcbe suﬃciently large to produce a\\\\nsmooth pseudo-interaction and that R∞>∼2.5rc, eﬀec-\\\\ntively limit the maximum reference energy ǫlat which\\\\nthe pseudo-interaction construction is possible.\\\\nWe ﬁnd that the pseudo-interaction is transferable (i.e.\\\\nhas very similar scattering strength to the true interac-\\\\ntion) for energies over a wide range about the reference\\\\nenergy ǫl, as found previously for electron-ion pseudopo-\\\\ntentials. In particular, we ﬁnd that transferability is bes t\\\\nfor energies less than the reference energy at which the\\\\npseudopotential was generated. This would suggest that\\\\nthe best reference energy to use is the largest energy\\\\ncompatible with the procedure for inversion of the radial\\\\nSchr¨ odinger equation, a choice conﬁrmed by calculations\\\\nof many-body eigenstates using pseudo-interaction po-\\\\ntentials generated with diﬀerent values of the reference\\\\nenergy.\\\\nAPPENDIX B: FIRST ORDER PERTURBATION\\\\nANALYSIS OF PSEUDO-INTERACTIONS\\\\nIn this Appendix, we consider the ﬁrst-order error\\\\nin the energy expected for a typical, arbitrary smooth\\\\nelectron-electron potential which is equal to the exact in-\\\\nteraction 1 /routside some (adjustable) cut-oﬀ radius rc.\\\\nWe will assume that the potential is (at least approxi-\\\\nmately) of the form\\\\nVrc(r) =1\\\\nrcU(r/rc) (B1)\\\\nwhere U(r/rc) is some universal function independent\\\\nofrc. Clearly both the true interaction 1 /rand thesmooth interaction Verfare of this form exactly. Vps\\\\nis also approximately of this form. Thus, the diﬀerence\\\\n∆Vbetween the interaction Vrc(r) and the true electron-\\\\nelectron interaction 1 /ris of the same form:\\\\n∆V(r) =1\\\\nrc∆U(r/rc), (B2)\\\\nwhere ∆ U(ρ) is zero for ρ >1.\\\\nReplacing the true electron-electron interaction with\\\\nVrc(r) then gives rise to a ﬁrst-order energy error:\\\\nδǫ(1)=/angbracketleftΨ|∆V|Ψ/angbracketright\\\\n=/angbracketleftΨ|/parenleftbigg\\\\nVrc−1\\\\nr/parenrightbigg\\\\n|Ψ/angbracketright, (B3)\\\\nwhere |Ψ/angbracketrightis the eigenstate of the many-electron system.\\\\nIfP(r) is the electron pair distribution function (aver-\\\\naged at the pair separation distance r), the energy error\\\\nmay be rewritten as:\\\\nδǫ(1)=/integraldisplay∞\\\\n0P(r)1\\\\nrc∆U(r/rc)4πr2dr\\\\n=r2\\\\nc/integraldisplay1\\\\n0P(rcρ)∆U(ρ)4πρ2dρ. (B4)\\\\nIfrcis suﬃciently small and the pair-distribution func-\\\\ntionP(r) does not tend to zero at r= 0, then P(rcρ) may\\\\nbe replaced by P(0) in the integral and δǫ(1)≈KP(0)r2\\\\nc\\\\nfor small rc, where Kis a constant for the type of inter-\\\\naction, deﬁned by\\\\nK≡/integraldisplay1\\\\n0∆U(ρ)4πρ2dρ. (B5)\\\\nThe construction of Vpsensures that the energy error\\\\nis identically zero for the two-electron scattering at the\\\\nreference energy, and therefore K= 0 for Vps. However,\\\\nfor an arbitrary smooth interaction (such as Verf),Kwill\\\\nnot be zero.\\\\nAPPENDIX C: SHORT-RANGE CORRELATION\\\\nTERM OBTAINED FROM NORM-CONSERVING\\\\nPOTENTIAL\\\\nIn the generation of the norm-conserving potential dis-\\\\ncussed in Appendix A, we obtained a pseudo wave func-\\\\ntionups(r), which is a solution to the radial Schr¨ odinger\\\\nequation at the scattering energy ǫlfor the pseudo-\\\\ninteraction, and the wave function ul(r), which is the\\\\ncorresponding solution for the true Coulomb interaction.\\\\nThe ratio Jsr=ul/upsof these two functions has the\\\\ncorrect electron cusp (i.e. logarithmic derivative of −1/4\\\\nor−1/2 for parallel or anti-parallel spins, respectively, at\\\\nr= 0) and tends rapidly to 1 for r > r c. This function Jsr\\\\nmay be said to contain the short-range cusp behaviour\\\\nof the Coulomb scattering solution, since it represents\\\\n8', 'the diﬀerence between the scattering wave function for\\\\nthe divergent potential and that for the ﬁnite pseudo-\\\\ninteraction.\\\\nMoreover, if Ψ( r1, . . . ,rN) is a many-electron wave\\\\nfunction (e.g. one which has inter-electronic coordinates\\\\nrijexplicitly included) with the correct electron cusps,\\\\nthe function\\\\nΨs= Ψ(r1, . . .,rN)//productdisplay\\\\ni<jJsr(rij) (C1)\\\\nis smooth at electron coalescences but has very similar\\\\nelectron correlations for rij> rc. The wave function\\\\nΨshas the electron cusp behaviour of the original wave\\\\nfunction Ψ removed inside the cut-oﬀ radius rc, but is\\\\notherwise the same as Ψ. Thus, the energy diﬀerence\\\\n/angbracketleftΨs|H|Ψs/angbracketright − /angbracketleftΨ|H|Ψ/angbracketrightis a good measure of the energy\\\\ncost of removing the electron cusp behaviour for r <\\\\nrcfrom a correlated wave function, while keeping other\\\\naspects of the wave function (e.g. any beneﬁts there may\\\\nbe to the inclusion of inter-electronic coordinates in the\\\\nform of the trial function) unchanged.\\\\nAPPENDIX D: EVALUATION OF\\\\nTWO-ELECTRON GAUSSIAN INTEGRALS\\\\nWITH PSEUDO-INTERACTIONS\\\\nIn this Appendix, we give details of the evaluation of\\\\ntwo-electron Gaussian basis set integrals for the electron\\\\ninteractions, VerfandVps, and their incorporation into\\\\nexisting electron integral programs.\\\\nFor the interaction Verf, the necessary modiﬁcation of\\\\ntwo-electron integrals for all s-type basis functions have\\\\nbeen given by Savin [20]. We do not use Savin’s ap-\\\\nproach, but rather directly modify the Rys quadrature\\\\napproach of Dupuis, Rys, and King [25], to obtain ma-\\\\ntrix elements for the interaction Verfin place of those for\\\\n1/r12. To evaluate two-electron integrals for the pseudo-\\\\ninteraction Vps, we use the form given in Eq. 3. This in-\\\\nvolves the evaluation of integrals with the interaction Verf\\\\nand a sum of Gaussian terms. In codes (e.g. the ARGOS\\\\ncode [31]) which use the Rys quadrature [25] approach for\\\\nthe evaluation of two-electron integrals with the Coulomb\\\\ninteraction, these Gaussian terms are already evaluated\\\\nin an intermediate stage and may be used in the present\\\\ncontext.\\\\nLet us deﬁne two-electron integrals of the Coulomb\\\\ninteraction as\\\\n(φiφj|1\\\\nr12|φkφl)\\\\n≡/integraldisplay/integraldisplay\\\\nφi(r1)φj(r1)1\\\\nr12φk(r2)φl(r2)dr1dr2,\\\\nfor Gaussian basis functions,\\\\nφi(r) = exp( −ai|r−Ri|2)/productdisplay\\\\nx,y,z(x−Xi)nxi.The Rys scheme represents the 1 /r12term in Gaussian\\\\nintegral form, to obtain:\\\\n(φiφj|1\\\\nr12|φkφl) =2√π/integraldisplay∞\\\\n0du(φiφj|exp(−u2r2\\\\n12)|φkφl).\\\\n(D1)\\\\nThis integral is then transformed to an integral over the\\\\nvariable t, where t2=u2/(ρ+u2) and 1 /ρ= 1/(ai+\\\\naj) + 1/(ak+al):\\\\n(φiφj|1\\\\nr12|φkφl) =/integraldisplay1\\\\n0PL(t)exp(−Xt2)dt , (D2)\\\\nwhere PLis a polynomial and X=ρ|rA−rB|2. Here,\\\\nrAandrBare the usual weighted-average centers of the\\\\nGaussian orbital pairs ( i, j) and ( k, l), respectively, as\\\\ngiven in Ref. [25]. The integration over tis then evaluated\\\\nexactly by an n-point quadrature formula:\\\\n(φiφj|1\\\\nr12|φkφl) =n/summationdisplay\\\\nα=1PL(tα)Wα,\\\\nwhere tα(X) and Wα(X) are determined as in Ref. [25].\\\\nWe observe that the interaction Verfmay be written\\\\nin exactly the same form as in Eq. D1, replacing the\\\\nupper limit of integration ( u=∞) with u= 1/rc. This\\\\nchanges the upper limit of integration in the variable t\\\\nfrom 1 to tc= 1//radicalbig\\\\n1 +ρr2cin Eq. D2. To use directly\\\\nthe Rys quadrature approach, we further transform to\\\\nthe variable t′=t/tc, to obtain\\\\n(φiφj|erf(r12/rc)\\\\nr12|φkφl) =tc/integraldisplay1\\\\n0PL(tct′)exp(−Xt2\\\\nct′2)dt′,\\\\nwhich can be evaluated as,\\\\n(φiφj|erf(r12/rc)\\\\nr12|φkφl) =n/summationdisplay\\\\nα=1PL(t′\\\\nα)W′\\\\nα,\\\\nwhere the quadrature points t′\\\\nαand weights W′\\\\nαare\\\\nfound by deﬁning X′=Xt2\\\\nc,t′\\\\nα=tctα(X′), and W′\\\\nα=\\\\ntcWα(X′).\\\\nWe can similarly evaluate the Gaussian terms in\\\\nthe representation of Vps. Deﬁning the integrand in\\\\nEq. D1, F(u)≡(φiφj|exp(−u2r2\\\\n12)|φkφl), we see that/summationtextPL(tα)Wα=/summationtextAαF(uα), where u2\\\\nα/ρ=t2\\\\nα/(1−\\\\nt2\\\\nα) and Aα= (2 /√π)[(ρ+u2)3/2/ρ] exp[Xu2/(ρ+\\\\nu2)]Wα(X). One may directly modify this ﬁnite-point\\\\nquadrature summation to evaluate two-electron integrals\\\\nfor the Gaussian terms, replacing nwithnG,Aαwithci,\\\\nandu2\\\\nαwithdi. We have applied these modiﬁcations to\\\\nthe two-electron integrals within the ARGOS code, part\\\\nof the COLUMBUS program package [31].\\\\n9', '[1] B. Klahn and J.D. Morgan III, J. Chem. Phys. 81, 410\\\\n(1984).\\\\n[2] R. N. Hill, J. Chem. Phys. 83, 1173 (1985).\\\\n[3] J. D. Morgan, in Numerical Determination of the Elec-\\\\ntronic Structure of Atoms, Diatomic, and Polyatomic\\\\nMolecules , edited by M. Defranceschi, and J. Delhalle\\\\n(Kluwer Academic Publishers, Dordrecht, 1989) p. 49.\\\\n[4] W. Kutzelnigg and W. Klopper, J. Chem. Phys. 94, 1985\\\\n(1991).\\\\n[5] W. Kutzelnigg and J. D. Morgan III, J. Chem. Phys. 96,\\\\n4484, (1992).\\\\n[6] M. Hoﬀmann-Ostenhoﬀ, T. Hoﬀman-Ostenhof, and H.\\\\nStremnitzer, Phys. Rev. Lett. 68, 3857 (1992).\\\\n[7] T. Helgaker, W. Klopper, W. Koch, and J. Noga, J.\\\\nChem. Phys. 106, 9639 (1997).\\\\n[8] T. Leininger, H. Stoll, H-J. Werner, and A. Savin, Chem.\\\\nPhys. Lett. 275, 151 (1997).\\\\n[9] M. Nooijen and R. J. Bartlett, J. Chem. Phys. 109, 8232\\\\n(1998).\\\\n[10] I. Silanes, J. M. Ugalde, and R. J. Boyd, J. Mol. Struct.\\\\n(THEOCHEM), 52727 (2000).\\\\n[11] T. Kato, Commun. Pure Applied Math. 10, 151 (1957).\\\\n[12] E. A. Hylleraas, Z. Phys. 51, 347 (1929).\\\\n[13] R. Bukowski, B. Jeziorski, and K. Szalewiczi, J. Chem.\\\\nPhys.100, 1366, (1994).\\\\n[14] J. D. Baker, D. E. Freund, R. N. Hill, and J. D. Morgan\\\\nIII, Phys. Rev. A 41, 1247 (1990).\\\\n[15] T. L. Gilbert, Rev. Mod. Phys. 35, 491 (1963).\\\\n[16] H. F. King, Theor. Chim. Acta 94, 345 (1996).\\\\n[17] D. R. Hamann, M. Schl¨ uter, and C. Chiang, Phys. Rev.\\\\nLett.43, 1494 (1979).\\\\n[18] W. E. Pickett, Comp. Phys. Rep. 9, 115 (1989).\\\\n[19] D. R. Hamann, Phys. Rev. B 40, 2980 (1989).\\\\n[20] A. Savin, in Recent Developments and Applications of\\\\nModern Density Functional Theory edited by J. M. Sem-\\\\ninario (Elsevier, 1996) p. 327.\\\\n[21] C. Filippi and C. J. Umrigar, J. Chem. Phys. 105, 213\\\\n(1996).\\\\n[22] C. J. Umrigar, K. G. Wilson, and J. W. Wilkins, Phys.\\\\nRev. Lett. 60, 1719 (1987).\\\\n[23] J. C. Greer, J. Chem. Phys. 103, 1821 (1995).\\\\n[24] J. C. Greer, J. Comp. Phys. 181, 146 (1998).\\\\n[25] M. Dupuis, J. Rys, and H. F. King, J. Chem. Phys. 65,\\\\n111 (1976).\\\\n[26] E. R. Davidson, S. A. Hagstrom, S. J. Chakrvorty, V. M.\\\\nUmar, and C. F. Fischer, Phys. Rev. A 44, 7071 (1991).\\\\n[27] T. H. Dunning Jr., J. Chem. Phys. 90, 1007 (1989)\\\\n[28] A. Schaefer, H. Horn, and R. Ahlrichs, J. Chem. Phys.\\\\n97, 2571 (1992).\\\\n[29] R. Krishnan, S. J. Binkley, R. Seeger, and J. A. Pople,\\\\nJ. Chem. Phys. 72, 650 (1980).\\\\n[30] P. O. Widmark, P. A. Malmqvist, and B. O. Roos, Theor.\\\\nChim. Acta 77, 291 (1990).\\\\n[31] R. Shepard, I. Shavitt, R. M. Pitzer, D. C. Comeau,\\\\nM. Pepper, H. Lischka, P. G. Szalay, R. Ahlrichs, F. B.\\\\nBrown, and J. Zhao, Int. J. Quant. Chem. Symp. 22, 149\\\\n(1988).\\\\n10']\""
      ]
     },
     "execution_count": 46,
     "metadata": {},
     "output_type": "execute_result"
    }
   ],
   "source": [
    "loaded_df['pdf_text'][0]"
   ]
  },
  {
   "cell_type": "code",
   "execution_count": 48,
   "id": "62e2063b-d6ee-47c5-b1b6-4ec916a2eec7",
   "metadata": {},
   "outputs": [
    {
     "ename": "NameError",
     "evalue": "name 'pdf_text' is not defined",
     "output_type": "error",
     "traceback": [
      "\u001b[1;31m---------------------------------------------------------------------------\u001b[0m",
      "\u001b[1;31mNameError\u001b[0m                                 Traceback (most recent call last)",
      "Cell \u001b[1;32mIn[48], line 1\u001b[0m\n\u001b[1;32m----> 1\u001b[0m \u001b[43mpdf_text\u001b[49m\u001b[38;5;241m.\u001b[39mreplace(\u001b[38;5;124m'\u001b[39m\u001b[38;5;130;01m\\\\\u001b[39;00m\u001b[38;5;124mn\u001b[39m\u001b[38;5;124m'\u001b[39m,\u001b[38;5;124m'\u001b[39m\u001b[38;5;124m \u001b[39m\u001b[38;5;124m'\u001b[39m)\u001b[38;5;241m.\u001b[39mreplace(\u001b[38;5;124m'\u001b[39m\u001b[38;5;124m-\u001b[39m\u001b[38;5;124m'\u001b[39m, \u001b[38;5;124m'\u001b[39m\u001b[38;5;124m \u001b[39m\u001b[38;5;124m'\u001b[39m)\n",
      "\u001b[1;31mNameError\u001b[0m: name 'pdf_text' is not defined"
     ]
    }
   ],
   "source": [
    "\n",
    "text.replace('\\\\n',' ').replace('-', ' ')"
   ]
  },
  {
   "cell_type": "code",
   "execution_count": 53,
   "id": "43b2f50c-f2ef-44d7-927f-5cb9907023e8",
   "metadata": {},
   "outputs": [],
   "source": [
    "def clean_PDF(text):\n",
    "    text.replace('\\\\n', '').replace('- ', '')\n",
    "    cleaned = ''.join([word for word in re.sub(r'\\W+', ' ', text) if not word.isdigit()])\n",
    "    return cleaned\n",
    "\n",
    "loaded_df['cleaned_pdf_text'] = loaded_df['pdf_text'].apply(lambda x: clean_PDF(x))"
   ]
  },
  {
   "cell_type": "code",
   "execution_count": 55,
   "id": "000aa0f0-859d-43f9-b788-1ae3c279a56b",
   "metadata": {},
   "outputs": [
    {
     "data": {
      "text/plain": [
       "' arXiv cond mat v cond mat str el  Feb Impact of Electron Electron Cusp on Conﬁguration Interact ion Energies nDavid Prendergast a M Nolan b Claudia Filippi a Stephen Fahy a and J C Greerb na Department of Physics andb NMRC University College Cork Ireland n February   nThe eﬀect of the electron electron cusp on the convergence o f conﬁguration interaction CI wave nfunctions is examined By analogy with the pseudopotential approach for electron ion interactions nan eﬀective electron electron interaction is developed wh ich closely reproduces the scattering of nthe Coulomb interaction but is smooth and ﬁnite at zero elect ron electron separation The exact nmany electron wave function for this smooth eﬀective inter action has no cusp at zero electron nelectron separation We perform CI and quantum Monte Carlo c alculations for He and Be atoms nboth with the Coulomb electron electron interaction and wi th the smooth eﬀective electron electron ninteraction We ﬁnd that convergence of the CI expansion of t he wave function for the smooth nelectron electron interaction is not signiﬁcantly improv ed compared with that for the divergent nCoulomb interaction for energy diﬀerences on the order of  m Hartree This shows that contrary to npopular belief description of the electron electron cusp is not a limiting factor to within chemical naccuracy for CI calculations nI INTRODUCTION nThe primary diﬃculty in solving the Schr odinger equa ntion for many electron systems arises from the presence nof the electron electron interaction which results in a nproblem non separable in the electron coordinates Con nﬁguration interaction CI calculations use an expansion nof the many body wave function in conﬁguration state nfunctions CSF given by spin coupled sums of determi nnants built from single particle orbitals One of the cen ntral diﬃculties for the convergence of the CI expansion nis thought to arise from the behaviour of the Coulomb ninteraction at small electron electron separations   nThe many body wave function must have an appropriate ncusp at electron coalescences so that the inﬁnite Coulomb ninteraction term is exactly cancelled by an opposite di nvergence of the kinetic energy  nIt is often stated in the literature that failure of the nCI expansion to reproduce the correct electron cusp i e nthe short range part of the Coulomb hole leads to a slow nconvergence in the energy with respect to the number nof CSF s  While this has been shown   in the nasymptotic regime i e very large angular momentum l nand energy errors of the order of  Hartree it is not nclear that it applies in the practical regime mHartree naccuracy for multi electron systems nExplicit inclusion of terms in the interelectronic dis ntance r methods   or the use of correlated gem ninal Gaussian basis functions  signiﬁcantly improve nthe convergence of a CI calculation For the helium atom nthe inclusion of r terms  yields an expansion in partial nwaves converging asymtotically as l or better instead nof a slow l  where lis the maximum angular momentum nin the expansion Baker et al  also showed that using nbasis functions with the same analytic structure as the ntrue wave function depending on powers and logarithms nofr leads to a reduced expansion length The suc ncess of methods explicitly including rterms has beenattributed to their correct description of the short range npart of the interaction nA completely diﬀerent point of view taken by Gilbert nin   is that the diﬃculty of CI wave functions in ndescribing short range eﬀects of the cusp are energeticall y nunimportant and that the beneﬁt of the explicitly corre nlated approach is that the entire Coulomb hole with a nsize on the order of the atomic orbitals is much easier to ndescribe in terms of interelectronic coordinates Gilbert s nsuggestion appears to have received little attention and nthe idea that smoothing out the Coulomb potential and nremoving the cusp altogether will automatically lead to nan improved CI convergence has been stated in the liter nature   However no systematic studies of the eﬀect nof the electron cusp on CI energy convergence at the level nof interest for chemical accuracy  mHartree for total nenergies have been presented nIn this paper we explore whether a signiﬁcant im nprovement in the convergence of the CI expansion is nobtained when the true Hamiltonian is replaced by one nwhich has a smooth and ﬁnite electron electron interac ntion pseudo interaction at short distances and conse nquently smooth eigenfunctions with no cusps nSurprisingly in calculations for the He and Be atoms nwe ﬁnd that removing the divergence of the Coulomb npotential at electron electron coalescences does not sig nniﬁcantly reduce the length of the CI expansion thereby nsubstantiating the argument put forward by Gilbert  nthat the slow convergence should be attributed to dif nﬁculties in describing not the interelectron cusp but nthe intermediate range electronic correlation The poor ntreatment of the interelectron cusp in the CI expansion is nnot a limiting factor at the mHartree level of accuracy on nthe total energy To further conﬁrm this result we calcu nlate the energy within quantum Monte Carlo QMC for nthe true electron electron interaction with accurate wave nfunctions which explicitly contain interelectronic coord i nnates and then deliberately remove the short range cor n relation term related to the cusp keeping other parts nof the wave function unchanged We ﬁnd that the re nmoval of the cusp has a very small eﬀect on the vari national energy Finally we demonstrate that the con nvergence behavior of the CI expansion as a function of nangular momentum in the range practical for many ap nplications l  is largely unaﬀected by the smoothing nof the electron cusps Therefore the angular momentum nconvergence numerically observed by other authors  is nrelated to problems associated with intermediate range ncorrelations not the cusp region as such nIn Sec II we describe the pseudopotential used for nthe electron electron interaction and brieﬂy present the nQMC and CI methods In Sec III we report the QMC nand CI energies for He and Be atoms using the true and npseudo electron interaction In Appendices A and B nwe discuss the numerical generation and accuracy of the nelectron pseudo interaction and in Appendix C we deﬁne na short range correlation term which can be associated nwith it In Appendix D we brieﬂy discuss the evaluation nof two electron integrals for the pseudo interaction nII COMPUTATIONAL METHODS nA Electron electron Pseudo interaction nWhen modifying the short distance electron electron ninteraction we wish to keep the intermediate and long nrange correlation properties of the many body eigen nstates unchanged This will allow us to isolate systemati ncally the eﬀects of the short range cusp like behaviour in nthe wave function To achieve this our new smooth in nteraction should ideally have electron electron scatteri ng nproperties identical to the true interaction for all ener ngies If this were the case all many electron eigenvalues nwould be identical for both interactions While this ideal ncannot be exactly realized we expect that a potential nwith the same scattering properties as the true interac ntion over a suﬃciently wide range of scattering energies nwill give many electron eigenvalues very close to the true nones nThis goal for electron electron scattering is analogous nto the problem of electron ion scattering addressed in the nwell established pseudopotential method  In that ap nproach the aim is to produce a smooth electron ion po ntential which reproduces the single particle eigenvalues nof the true system over a range of energies and has the nsame single particle wave functions outside some suitably nchosen cut oﬀ radius rc Such pseudopotentials are gen nerated for the isolated atom but may then be used with a nhigh level of accuracy in molecules and solids In solids nthe smoothness of the potential greatly improves the con nvergence of plane wave expansions for single particle or nbitals  nFollowing the success of norm conserving pseudopo ntential methods in the context of the electron ion scat             nr a u interaction energy Hartree Vps interaction nVerf interaction nCoulomb interaction nFIG  Norm conserving electron pseudo interaction n solid line and smooth interaction Verf dashed line each nwith a cut oﬀ radius rc   a u indicated by a vertical ndotted line and the true  rinteraction dash dot line as nfunctions of the electron separation r ntering problem we generate a norm conserving pseudo ninteraction for the two electron scattering problem nwhich will replace the true e relectron electron interac ntion inside a cut oﬀ radius rc Since the electron electron ninteraction is repulsive and has no bound states for an nisolated pair of electrons we use with some minor mod niﬁcations the generalized norm conserving method de nvised by Hamann  to generate pseudopotentials for nelectron ion interactions at unbound scattering state en nergies The numerical details of this approach are pre nsented in Appendix A nIn Fig  we show a pseudo interaction potential Vps ngenerated by this approach along with the true e rin nteraction and a smooth but not norm conserving inter naction Verf r eerf r rc r as used by Savin and ncoworkers  in a diﬀerent context In Appendix B the naccuracy of such scattering potentials in reproducing the nexact eigenstate energies is analyzed qualitatively using nﬁrst order perturbation theory In Appendix C we de nﬁne a short range inter electronic correlation term whic h ncan be directly related to the replacement of the divergent nCoulomb interaction with a smooth norm conserving in nteraction nB Quantum Monte Carlo Calculations nWe employ QMC methods to determine accurate en nergies both for the Coulomb and the pseudo interaction nThe wave functions Ψ used in QMC are of the form given nin Ref  and explicitly depend on the inter electronic n coordinates They include parameterized terms to de nscribe electron nucleus electron electron and electron nelectron nucleus correlation as follows nΨ parenleftBigg summationdisplay nndnD nnD nn parenrightBigg nJ ri rj rij  nD nnand D nnare the Slater determinants of single particle norbitals for the spin up and down electrons respectively nandJis a Jastrow factor of the form nJ ri rj rij productdisplay niexp Ai productdisplay nijexp Bij productdisplay nijexp Pij  nwhere Ais an electron nuclear term which could be nomitted if a suﬃciently large single particle basis were nused in constructing the determinantal part Bis an nelectron electron term incorporating the cusp at small nrij and Pis a smooth function of the electron coordi nnates riandrj as discussed in detail in Ref  For nthe pseudo interaction calculations the Bterm is omit nted The parameters in the determinant and Jastrow nfactor are optimized within QMC using the variance min nimisation method  and the accuracy is tested at the nvariational level The wave function is then used in dif nfusion Monte Carlo DMC which produces the best en nergy within the ﬁxed node approximation i e the lowest nenergy state with the same nodes as the trial wave func ntion nFor a given interaction this method yields the ex nact eigenvalue within statistical sampling noise for the nground state of the He isoelectronic series since the sin nglet ground state wave function of a two electron system nis nodeless For He only one determinant is used in the nwave function For the Be atom the s and p conﬁgura ntions are included in the determinantal part of the wave nfunction and DMC gives the best energy subject to the nﬁxed node condition To isolate the eﬀect of the pseudo ninteraction from the ﬁxed node approximation we keep nthe nodal structure of the wave function ﬁxed while mod nifying the electron electron interaction nC Conﬁguration Interaction Calculations nThe CI calculations are performed using the Monte nCarlo conﬁguration interaction MCCI method   nIn a MCCI calculation a coeﬃcient threshold cminis de nﬁned conﬁgurations are randomly generated and after na variational calculation coeﬃcients of magnitude be nlowcminare rejected This procedure is repeated until na desired degree of convergence in the CI calculation is nachieved A full CI FCI calculation can be obtained for ncmin  The fact that the MCCI procedure does not nrely on a pre selection of CSF s makes it well suited for nour study the dynamical selection of conﬁgurations al nlows for rejection of CSF s which may no longer be needed nwith the smooth electron interaction For use in the CI approach the pseudo interaction Vps nis represented in Hartree atomic units as a sum of the nsmooth function VerfplusnGGaussian terms as follows nVps r erf r rc nr nG summationdisplay ni ciexp dir  nThis reproduces the  rtail of the Coulomb interaction nand the smooth ﬁnite form of the pseudo interaction at nshort distances The parameters cianddiare found by nleast squares ﬁtting for radii r rc to the numerical npotential generated as described in Appendix A For nthe CI results presented below the potential was ﬁtted nusing nG  QMC calculations of the He atom energy nwith the numerical potential and with the ﬁtted potential nshow a negligible diﬀerence less than   mHartree for nall values of rc  a u nEvaluation of the pseudo interaction Vps r can be im nplemented in codes for Gaussian integral calculation since nit is possible to compute the two body matrix elements nboth of exp d r and erf r rc rin the CI basis Ma ntrix elements of the interaction erf r rc rfor all s type nbasis functions have already been given in Ref  For nboth types of interaction a simple modiﬁcation to the nintegral codes is possible if the standard two electron in ntegrals are calculated using the method of Rys quadra nture  Details of two body integral evaluation with nthe modiﬁed form of the electron interaction are given in nAppendix D nIII He AND Be ATOMIC ENERGIES WITH nPSEUDO INTERACTIONS nTo test the impact of the interelectron cusp on the en nergy we calculate the total energies of He and Be atoms nreplacing the true  relectron interaction with the norm nconserving pseudo interaction Vps r generated for var nious values of the cut oﬀ radius rc For comparison nwe also present results for the smooth but not norm nconserving potential Verf r erf r rc r The results nin this section are obtained from QMC and CI calcula ntions nA Ground State of the He atom nIn Fig  we show the singlet ground state energies of nthe He atom calculated with a norm conserving electron nelectron interaction Vpsgenerated as in Sec II for various nvalues of the cut oﬀ radius rc The values obtained from nQMC exact calculations are shown We also plot the nenergies calculated using the Verf r interaction The hor nizontal line indicates the exact energy E   nHartree for the true Coulomb interaction  nThe calculated QMC energies for VpsandVerfin nFig  are ﬁtted with polynomial expansions of the form n             nrc a u        E Hartree nCuspless Ψ nVps interaction nVerf interactionHe nFIG  He atom ground state energy Eas a function nof cut oﬀ radius rc obtained from DMC calculations using nvarious forms of the electron electron interaction a th e nnorm conserving pseudo interaction Vps solid line b the nsmooth interaction Verf dashed line The curves are poly nnomial ﬁts to the calculated DMC values as discussed in the ntext The horizontal line shows the exact value  for the H e nground state Also shown are variational energies with the ntrue Coulomb interaction upon removal of the electron cusp n see Appendix C from the wave function used in the DMC ncalculations dotted line nE rc E ar nc br nc cr nc dr nc er nc As discussed nin Appendix B any potential which diﬀers from the ex nact  rinteraction would be expected from ﬁrst order nperturbation theory to converge at least quadratically in nrcto the exact energy Efor small rc Since Verfis not nexplicitly constructed to eliminate ﬁrst order errors in nVerf r  r quadratic convergence is seen for Verfand nthe ﬁtting parameters are a   b   nc   d   and e  On the other nhand the norm conserving pseudo interaction construc ntion of Sec II A explicitly ensures that the ﬁrst order nperturbation correction to the energy is zero The He nground state energy as a function of rcusing Vpscan nindeed be ﬁtted without the quadratic term and even nthe cubic term proves to be small the polynomial coef nﬁcients being a  b   c   d  nande   For He the energies obtained using nVps r are within  mHartree of the energy computed nwith the true Coulomb interaction for values of rc   na u Since the typical electron electron distance in the nHe ground state is of the order of  a u these results in ndicate that the ﬁrst peak of the electron pair distribution nfunction provides a good measure of how large a cut oﬀ nradius rcmay be used to obtain accurate total energies nwithVps r rcshould be approximately half the radius nat which this ﬁrst peak occurs The same criterion for nthe largest allowed rcvalue was found to hold for other nsystems not shown viz the He triplet state the He nisoelectronic series and multi electron atoms In a qual itative way this condition is similar to the criterion used nin the generation of electron ion pseudopotentials where nthe cut oﬀ radius is chosen to be inside the peak of the nvalence electron density nAlso shown in Fig  are the variational energies with nthe true Coulomb electron electron interaction obtained nfor the He ground state by removing the electron cusps nfrom the accurate trial wave function which was deter nmined by variance minimization for use in the DMC cal nculations as speciﬁed in Eq C This trial wave function nincludes considerable variational freedom in the interele c ntronic terms and obtains  of the correlation energy nAs can be seen in Fig  removal of the cusp out to radii nof   a u causes little degradation of the quality of the nenergy obtained with this wave function Thus the suc ncess of interelectronic terms in obtaining good variationa l nenergies is not primarily due to their description of the nshort range cusp behaviour nThis trend is further borne out when we look at nthe convergence of partial CI expansions within a given nsingle particle basis set for the MCCI method The CI ncalculations were performed with the correlation consis ntent polarized valence double zeta cc pVDZ triple zet a n cc pVTZ quadruple zeta cc pVQZ and quintuple nzeta cc pVZ basis sets of Dunning  with the elec ntron interaction Vpsfor various values of rc All four nbasis sets show similar behaviour and we present only nthe cc pVQZ results in detail Table I shows the correla ntion energy obtained as a function of cut oﬀ radius rcfor nvarious values of the expansion coeﬃcient threshold cmin nThe full CI result is obtained when cmin   For larger nvalues of the cut oﬀ radius rc upper rows of table the ntotal correlation energy is smaller as the variation of the ninteraction Vpsbecomes smaller around the typical sepa nration distance of the electrons However the fraction of nthe correlation energy which is recovered at a given CI nthreshold level cmindepends little on the value of rc nFig  shows the number of CSF s in the CI expan nsion as a function of cut oﬀ radius rcfor various values nof the expansion coeﬃcient threshold cmin For values of ncmin    one is quickly reduced to a few CSF s nand ﬁnally to the Hartree Fock solution As with the cor nrelation energies for a given threshold cmin the number nof CSF s shows relatively little change for values of rcbe ntween  and   Again it is worth bearing in mind that nthe typical electron electron separation is  a u and that na cut oﬀ radius rc   represents a very smooth inter naction Thus removal of electron cusps does not result nin a signiﬁcant reduction in the number of contributing nconﬁgurations in the CI expansion nWe next demonstrate that removal of the electron cusp ndoes not signiﬁcantly change the convergence properties nof CI expansions as the highest angular momentum quan ntum number is increased in the single particle basis sets nIn Fig  FCI energies for He are displayed against in ncreasing basis set size in the correlation consistent serie s nfrom Dunning and hence increasing angular momentum nnumber in the basis The convergence in the FCI energy n TABLE I Calculated correlation energy for the He atom with a cc pVQZ basis set as a function of cut oﬀ radius rc nand the CI coeﬃcient threshold cmin The energy units are mHartree The right hand column HF QMC shows the full ncorrelation energy i e the diﬀerence between the Hartree Fock energy calculated with this basis and QMC exact en ergy nThe percentages indicated are the fractions of the full CI co rrelation energy for each value of rc nrc cmin n a u             HF QMC n                n              n                n              n                n              n                n              n                n              n                n              n            nrc a u number of CSF scmin   ncmin   ncmin   ncmin   ncmin   nFIG  The number of conﬁguration state functions n CSF in the CI expansion for the He atom with the cc pVQZ nbasis set as a function of rc Results are presented for coeﬃ ncient thresholds cminof         and   nwith increasing basis set size is compared for electron in nteraction Vps with values of the cut oﬀ radius rcfrom  nto   Fitting these energies to a function similar to the nasymptotic form derived in Ref  nE E a nL b nL  nwhere Lis the maximum angular momentum in the basis ngives best values of a   and b   for each nvalue of rc   and gives a   and b   for nrc   Thus the predominant  Lconvergence of the nenergy is present for all values of rcinvestigated here nAlthough the asymptotic form in Eq  ﬁts the results    nL            E Hartree rc   nrc   nrc   nrc   nrc   nFIG  Full CI energies Efor the ground state He atom nas a function of L the maximum angular momentum in the nbasis set used calculated using the electron interaction Vps nwith values of the cut oﬀ radius rcfrom  to   nwell the parameters aandbdo not have the asymptotic nvalues a   and b   found for the angular nmomentum convergence associated with the short range ncusp  Two factors cause this discrepancy i not only nhigher angular momentum functions are added as Lis in ncreased in the Dunning basis sets ii more importantly nwe are not near the asymptotic regime where expansion nof the short range cusp would be the dominant energy ncorrection n             nrc a u             E Hartree nCuspless Ψ nVps interactionBe nFIG  Be atom ground state energy Eas a function of ncut oﬀ radius rc obtained from a DMC calculations using nthe norm conserving pseudo interaction Vps solid line b nvariational calculations using the true Coulomb interacti on nupon removal of the electron cusp from the trial wave functio n n see Appendix C used in the DMC calculation dashed line nB Ground State of the Be atom nThe qualitative nature of the CI energy convergence nseen in the previous section is not special to the He natom Fig  shows the DMC calculated ground state nenergies of Be for various cut oﬀ radii rc Because of the nmuch smaller radius of the s orbital in Be compared to nHe the energetically appropriate cut oﬀ radius rcfor the npseudo interaction is substantially smaller Also shown nin Fig  are the variational energies obtained for the Be nground state by removing the electron cusps as deﬁned nin Eq C from the accurate trial wave function which nwas determined by variance minimization for use in the nDMC calculations This trial wave function includes in nterelectronic terms and obtains   of the correlation nenergy Removal of the cusp causes signiﬁcant degrada ntion of the quality of the wave function only for rc   natomic units which is comparable to the typical sepa nration of the s electrons Thus in Be as in He the nsuccess of interelectronic terms in obtaining good varia ntional energies is not primarily due to their description nof the short range cusp behaviour nCI calculations using basis sets with s and p functions n the TZP basis of Ahlrichs et al  s p and d nfunctions  g  s p d and f functions the nANO basis of Widmark et al  and s p d f and ng functions i e the ANO basis augmented with a g nfunction with exponent   were carried out The values nof the CI coeﬃcient threshold cminwere taken to be   n and  for all basis sets Calculations were car nried out at cut oﬀ radii rcof  i e Coulomb interaction n  and   a u nIn Tables II and III we present the correlation energy nfor Be obtained with the TZP and ANO basis sets re TABLE II Calculated correlation energy as a function of ncut oﬀ radius rcand CI coeﬃcient threshold cmin for the Be natom with the TZP basis set All energies are in mHartree nThe right hand column shows the QMC correlation energy n i e the diﬀerence between the Hartree Fock energy for thi s nbasis and the QMC energy for each value of the cut oﬀ radius nrc The percentages indicated are the fractions of the QMC ncorrelation energy for each value of rc nrc cmin n a u       HF QMC n          n        n          n        n          n        nTABLE III Calculated correlation energy for the Be atom nwith the ANO basis set The notation is the same as in Ta nble II nrc cmin n a u       HF QMC n          n        n          n        n          n        nspectively Fig  shows the number of CSF s as a func ntion of the cut oﬀ radius rcfor various values of the CI ncoeﬃcient threshold cminin the MCCI approach We see nthat especially at the higher levels of accuracy i e smal l ncmin neither the fraction of the correlation energy ob ntained nor the number of CSF s used depend strongly on nthe cut oﬀ radius rc As we saw in the He atom remov ning the divergence of the Coulomb electron interaction ndoes not substantially change the CI energy convergence nat this level of accuracy nIV CONCLUSIONS nIn this paper we have directly explored the eﬀect nof the electron cusp on the convergence of the en nergy for CI wave functions To do so we introduced na ﬁctitious electron electron interaction which unlike nthe true Coulomb potential does not diverge at elec ntron coalescences and therefore has many body eigen nfunctions which are smooth there The smooth poten ntial is obtained by a method analogous to the well nestablished treatment of electron ion interactions with n      nrc a u number of CSF s ncmin   ncmin   ncmin  TZP nANO nFIG  The number of conﬁguration state functions n CSF in the CI expansion for the Be atom with TZP and nANO basis sets Results are presented for coeﬃcient thresh noldscminof     and   at cut oﬀ radii rcof   n  and   a u nsmooth norm conserving pseudopotentials These give nscattering properties very similar to the true potential nand improve the convergence of plane wave expansions nfor single particle wave functions By analogy one might nexpect that a similar treatment of the electron electron ninteraction would improve the convergence of CI expan nsions nFor the He and Be atoms we have compared the CI nexpansions of wave functions for the true Coulomb inter naction and for smooth pseudo interactions between the nelectrons We have also compared the variational en nergies of highly accurate wave functions containing r nterms where the cusp condition is exactly satisﬁed with nthe energy for the same wave functions from which the ncusp has been deliberately removed out to a given radius nThe main result of our study is that a description of nthe electron cusp as such is nota limiting factor in cal nculating correlation eﬀects with conﬁguration interactio n nmethods at the mHartree level of accuracy We are led nto this conclusion since the replacement of the diver ngent Coulomb interaction with a ﬁnite interaction leaves nthe convergence properties largely unchanged The slow nconvergence of CI expansions in this energy range must nbe attributed to medium range correlations which are npresent for both types of electron interaction The results nobtained by explicitly removing the cusp from accurate nvariational wave functions support this conclusion show ning that the cusp of the wave function is not energetically nimportant This is found even when cusp like behaviour nis removed out to a distance of half the typical interelec ntronic separation nWhen describing correlation eﬀects with explicit r nmethods it is a mistaken notion to assign the improve nment in convergence to their ability to describe the short range cusp Rather the improvement in convergence at nthe mHartree level must be understood in terms of a nbetter description of medium range correlations when ex npressed in interelectronic coordinates This fact must be nconsidered when developing theoretical treatments of the nelectronic correlation problem nV ACKNOWLEDGMENTS nWe wish to thank D R Hamann for stimulating discus nsions This work has been supported by Enterprise Ire nland Grant Number SC   and by the Irish Higher nEducation Authority nAPPENDIX A GENERATION OF ELECTRON nPSEUDO INTERACTIONS nThe procedure for constructing the electron pseudo ninteraction Vpsfollows Hamann s construction  of gen neralised norm conserving pseudopotentials for electron nion scattering with two modiﬁcations i Only two nparticles are involved in the generation of the electron nelectron pseudo interaction so that we do not need to in nclude screening potentials ii because we are solving the nscattering problem in the centre of mass frame of the elec ntrons and use the relative coordinate rof the electrons nthe mass of the electron is replaced by the reduced mass nfor the two electron system In Hartree atomic units the ninteraction potential is V r  rand the reduced mass nis   The radial Schr odinger equation for the relative nmotion of two electrons is then n dul ndr parenleftbiggl l  nr V ǫl parenrightbigg nul  A nwhere ul r isrtimes the wave function in the relative ncoordinates with angular momentum land energy ǫl the nkinetic energy of the separated electrons in the centre of nmass frame nIn the generation of a pseudopotential the true po ntential and pseudopotential become identical outside a nsuitably chosen cut oﬀ radius rcand are constructed to nhave identical scattering phase shifts and energy deriva ntive of the phase shift at a reference energy ǫl A smooth npseudo wave function ups r is generated numerically to nensure norm conservation i e ups R ul R and n integraldisplayR nups r dr integraldisplayR nul r dr A nfor all R r c In practice we choose R  rc nas in Ref  Given ups a smooth ﬁnite pseudopo ntential Vpsis generated by inversion of the Schr odinger nEq A for r R with ulandVsubstituted by upsand nVps respectively We follow the steps exactly as given in n Sec II of Ref  except where the reduced mass en nters in the ﬁnal inversion slightly modifying Eq  of nHamann s work nIn the norm conserving pseudopotential approach dif nferent scattering potentials are often generated for diﬀer nent values of the angular momentum l The full many nbody wave function is anti symmetric with respect to ex nchange of any two electrons Thus if the two electrons nhave parallel spin the orbital part of the wave function nmust have odd parity and the allowed angular momentum nlmust be odd Thus the dominant parallel spin scat ntering has l  For singlet anti parallel scattering nthe orbital part is symmetric and lmust be even with ndominant allowed angular momentum l  Following nthe usual pseudopotential approach we might then ex npect to generate a parallel spin scattering potential usin g nl  and an anti parallel spin scattering potential using nl  In practice we ﬁnd that the l  potential gives ngood scattering for both angular momenta and the use nof separate parallel and anti parallel spin potentials i s nunnecessary nSince ǫlis positive the wave function will oscillate for nlarge r and if a node occurs for r R the inver nsion of the Schr odinger equation will fail Thus the joint nrequirements that rcbe suﬃciently large to produce a nsmooth pseudo interaction and that R  rc eﬀec ntively limit the maximum reference energy ǫlat which nthe pseudo interaction construction is possible nWe ﬁnd that the pseudo interaction is transferable i e nhas very similar scattering strength to the true interac ntion for energies over a wide range about the reference nenergy ǫl as found previously for electron ion pseudopo ntentials In particular we ﬁnd that transferability is bes t nfor energies less than the reference energy at which the npseudopotential was generated This would suggest that nthe best reference energy to use is the largest energy ncompatible with the procedure for inversion of the radial nSchr odinger equation a choice conﬁrmed by calculations nof many body eigenstates using pseudo interaction po ntentials generated with diﬀerent values of the reference nenergy nAPPENDIX B FIRST ORDER PERTURBATION nANALYSIS OF PSEUDO INTERACTIONS nIn this Appendix we consider the ﬁrst order error nin the energy expected for a typical arbitrary smooth nelectron electron potential which is equal to the exact in nteraction  routside some adjustable cut oﬀ radius rc nWe will assume that the potential is at least approxi nmately of the form nVrc r  nrcU r rc B nwhere U r rc is some universal function independent nofrc Clearly both the true interaction  rand thesmooth interaction Verfare of this form exactly Vps nis also approximately of this form Thus the diﬀerence n Vbetween the interaction Vrc r and the true electron nelectron interaction  ris of the same form n V r  nrc U r rc B nwhere U ρ is zero for ρ  nReplacing the true electron electron interaction with nVrc r then gives rise to a ﬁrst order energy error nδǫ  angbracketleftΨ V Ψ angbracketright n angbracketleftΨ parenleftbigg nVrc  nr parenrightbigg n Ψ angbracketright B nwhere Ψ angbracketrightis the eigenstate of the many electron system nIfP r is the electron pair distribution function aver naged at the pair separation distance r the energy error nmay be rewritten as nδǫ  integraldisplay nP r  nrc U r rc πrdr n r nc integraldisplay nP rcρ U ρ πρdρ B nIfrcis suﬃciently small and the pair distribution func ntionP r does not tend to zero at r  then P rcρ may nbe replaced by P  in the integral and δǫ  KP  r nc nfor small rc where Kis a constant for the type of inter naction deﬁned by nK integraldisplay n U ρ πρdρ B nThe construction of Vpsensures that the energy error nis identically zero for the two electron scattering at the nreference energy and therefore K  for Vps However nfor an arbitrary smooth interaction such as Verf Kwill nnot be zero nAPPENDIX C SHORT RANGE CORRELATION nTERM OBTAINED FROM NORM CONSERVING nPOTENTIAL nIn the generation of the norm conserving potential dis ncussed in Appendix A we obtained a pseudo wave func ntionups r which is a solution to the radial Schr odinger nequation at the scattering energy ǫlfor the pseudo ninteraction and the wave function ul r which is the ncorresponding solution for the true Coulomb interaction nThe ratio Jsr ul upsof these two functions has the ncorrect electron cusp i e logarithmic derivative of   nor   for parallel or anti parallel spins respectively at nr  and tends rapidly to  for r r c This function Jsr nmay be said to contain the short range cusp behaviour nof the Coulomb scattering solution since it represents n the diﬀerence between the scattering wave function for nthe divergent potential and that for the ﬁnite pseudo ninteraction nMoreover if Ψ r rN is a many electron wave nfunction e g one which has inter electronic coordinates nrijexplicitly included with the correct electron cusps nthe function nΨs Ψ r rN productdisplay ni jJsr rij C nis smooth at electron coalescences but has very similar nelectron correlations for rij rc The wave function nΨshas the electron cusp behaviour of the original wave nfunction Ψ removed inside the cut oﬀ radius rc but is notherwise the same as Ψ Thus the energy diﬀerence n angbracketleftΨs H Ψs angbracketright angbracketleftΨ H Ψ angbracketrightis a good measure of the energy ncost of removing the electron cusp behaviour for r nrcfrom a correlated wave function while keeping other naspects of the wave function e g any beneﬁts there may nbe to the inclusion of inter electronic coordinates in the nform of the trial function unchanged nAPPENDIX D EVALUATION OF nTWO ELECTRON GAUSSIAN INTEGRALS nWITH PSEUDO INTERACTIONS nIn this Appendix we give details of the evaluation of ntwo electron Gaussian basis set integrals for the electron ninteractions VerfandVps and their incorporation into nexisting electron integral programs nFor the interaction Verf the necessary modiﬁcation of ntwo electron integrals for all s type basis functions have nbeen given by Savin  We do not use Savin s ap nproach but rather directly modify the Rys quadrature napproach of Dupuis Rys and King  to obtain ma ntrix elements for the interaction Verfin place of those for n r To evaluate two electron integrals for the pseudo ninteraction Vps we use the form given in Eq  This in nvolves the evaluation of integrals with the interaction Verf nand a sum of Gaussian terms In codes e g the ARGOS ncode  which use the Rys quadrature  approach for nthe evaluation of two electron integrals with the Coulomb ninteraction these Gaussian terms are already evaluated nin an intermediate stage and may be used in the present ncontext nLet us deﬁne two electron integrals of the Coulomb ninteraction as n φiφj  nr φkφl n integraldisplay integraldisplay nφi r φj r  nrφk r φl r drdr nfor Gaussian basis functions nφi r exp ai r Ri  productdisplay nx y z x Xi nxi The Rys scheme represents the  rterm in Gaussian nintegral form to obtain n φiφj  nr φkφl  π integraldisplay ndu φiφj exp ur n φkφl n D nThis integral is then transformed to an integral over the nvariable t where t u ρ u and  ρ  ai naj  ak al n φiφj  nr φkφl integraldisplay nPL t exp Xt dt D nwhere PLis a polynomial and X ρ rA rB  Here nrAandrBare the usual weighted average centers of the nGaussian orbital pairs i j and k l respectively as ngiven in Ref  The integration over tis then evaluated nexactly by an n point quadrature formula n φiφj  nr φkφl n summationdisplay nα PL tα Wα nwhere tα X and Wα X are determined as in Ref  nWe observe that the interaction Verfmay be written nin exactly the same form as in Eq D replacing the nupper limit of integration u with u  rc This nchanges the upper limit of integration in the variable t nfrom  to tc  radicalbig n ρrcin Eq D To use directly nthe Rys quadrature approach we further transform to nthe variable t t tc to obtain n φiφj erf r rc nr φkφl tc integraldisplay nPL tct exp Xt nct  dt nwhich can be evaluated as n φiφj erf r rc nr φkφl n summationdisplay nα PL t nα W nα nwhere the quadrature points t nαand weights W nαare nfound by deﬁning X Xt nc t nα tctα X and W nα ntcWα X nWe can similarly evaluate the Gaussian terms in nthe representation of Vps Deﬁning the integrand in nEq D F u φiφj exp ur n φkφl we see that summationtextPL tα Wα summationtextAαF uα where u nα ρ t nα  nt nα and Aα  π ρ u   ρ exp Xu ρ nu Wα X One may directly modify this ﬁnite point nquadrature summation to evaluate two electron integrals nfor the Gaussian terms replacing nwithnG Aαwithci nandu nαwithdi We have applied these modiﬁcations to nthe two electron integrals within the ARGOS code part nof the COLUMBUS program package  n  B Klahn and J D Morgan III J Chem Phys   n  n  R N Hill J Chem Phys    n  J D Morgan in Numerical Determination of the Elec ntronic Structure of Atoms Diatomic and Polyatomic nMolecules edited by M Defranceschi and J Delhalle n Kluwer Academic Publishers Dordrecht  p  n  W Kutzelnigg and W Klopper J Chem Phys   n  n  W Kutzelnigg and J D Morgan III J Chem Phys  n  n  M Hoﬀmann Ostenhoﬀ T Hoﬀman Ostenhof and H nStremnitzer Phys Rev Lett    n  T Helgaker W Klopper W Koch and J Noga J nChem Phys    n  T Leininger H Stoll H J Werner and A Savin Chem nPhys Lett    n  M Nooijen and R J Bartlett J Chem Phys   n  n  I Silanes J M Ugalde and R J Boyd J Mol Struct n THEOCHEM   n  T Kato Commun Pure Applied Math    n  E A Hylleraas Z Phys    n  R Bukowski B Jeziorski and K Szalewiczi J Chem nPhys    n  J D Baker D E Freund R N Hill and J D Morgan nIII Phys Rev A    n  T L Gilbert Rev Mod Phys    n  H F King Theor Chim Acta    n  D R Hamann M Schl uter and C Chiang Phys Rev nLett    n  W E Pickett Comp Phys Rep    n  D R Hamann Phys Rev B    n  A Savin in Recent Developments and Applications of nModern Density Functional Theory edited by J M Sem ninario Elsevier  p  n  C Filippi and C J Umrigar J Chem Phys   n  n  C J Umrigar K G Wilson and J W Wilkins Phys nRev Lett    n  J C Greer J Chem Phys    n  J C Greer J Comp Phys    n  M Dupuis J Rys and H F King J Chem Phys  n  n  E R Davidson S A Hagstrom S J Chakrvorty V M nUmar and C F Fischer Phys Rev A    n  T H Dunning Jr J Chem Phys    n  A Schaefer H Horn and R Ahlrichs J Chem Phys n   n  R Krishnan S J Binkley R Seeger and J A Pople nJ Chem Phys    n  P O Widmark P A Malmqvist and B O Roos Theor nChim Acta    n  R Shepard I Shavitt R M Pitzer D C Comeau nM Pepper H Lischka P G Szalay R Ahlrichs F B nBrown and J Zhao Int J Quant Chem Symp   n  n '"
      ]
     },
     "execution_count": 55,
     "metadata": {},
     "output_type": "execute_result"
    }
   ],
   "source": [
    "loaded_df['cleaned_pdf_text'][0]"
   ]
  },
  {
   "cell_type": "code",
   "execution_count": null,
   "id": "131ec349-a9fb-4671-9e51-dea180e98e2b",
   "metadata": {},
   "outputs": [],
   "source": []
  }
 ],
 "metadata": {
  "kernelspec": {
   "display_name": "Python 3 (ipykernel)",
   "language": "python",
   "name": "python3"
  },
  "language_info": {
   "codemirror_mode": {
    "name": "ipython",
    "version": 3
   },
   "file_extension": ".py",
   "mimetype": "text/x-python",
   "name": "python",
   "nbconvert_exporter": "python",
   "pygments_lexer": "ipython3",
   "version": "3.11.3"
  }
 },
 "nbformat": 4,
 "nbformat_minor": 5
}
