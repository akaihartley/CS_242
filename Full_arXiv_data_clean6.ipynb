{
 "cells": [
  {
   "cell_type": "code",
   "execution_count": 1,
   "id": "58c2d1d8-98c1-41a9-b560-29eb27f2c150",
   "metadata": {},
   "outputs": [],
   "source": [
    "import pandas as pd\n",
    "import numpy as np\n",
    "import os"
   ]
  },
  {
   "cell_type": "code",
   "execution_count": 2,
   "id": "9a49c8cd-b5b3-4422-95fd-023f35a68002",
   "metadata": {},
   "outputs": [],
   "source": [
    "loaded_df = pd.read_csv('Full_arXiv_data.csv')"
   ]
  },
  {
   "cell_type": "code",
   "execution_count": 3,
   "id": "aea1d164-fb0d-4e55-b4fe-a775183b3307",
   "metadata": {},
   "outputs": [
    {
     "name": "stdout",
     "output_type": "stream",
     "text": [
      "Missing values:\n",
      "Unnamed: 0    0\n",
      "id            0\n",
      "title         0\n",
      "summary       0\n",
      "published     0\n",
      "authors       0\n",
      "pdf_link      0\n",
      "pdf_text      0\n",
      "dtype: int64\n"
     ]
    }
   ],
   "source": [
    "# chekcing missing values\n",
    "print(\"Missing values:\")\n",
    "print(loaded_df.isnull().sum())"
   ]
  },
  {
   "cell_type": "code",
   "execution_count": 13,
   "id": "f3454d88-5aa1-4b4d-9360-9bcc02dd981d",
   "metadata": {},
   "outputs": [
    {
     "name": "stdout",
     "output_type": "stream",
     "text": [
      "No Duplicates: 13384\n",
      "Duplicate rows True/False:\n",
      "0        False\n",
      "1        False\n",
      "2        False\n",
      "3        False\n",
      "4        False\n",
      "         ...  \n",
      "13379    False\n",
      "13380    False\n",
      "13381    False\n",
      "13382    False\n",
      "13383    False\n",
      "Length: 13384, dtype: bool\n"
     ]
    }
   ],
   "source": [
    "# checking duplicate entries\n",
    "duplicates = loaded_df.duplicated()\n",
    "print('No Duplicates:', duplicates.shape[0])\n",
    "print('Duplicate rows True/False:')\n",
    "print(duplicates)"
   ]
  },
  {
   "cell_type": "code",
   "execution_count": 5,
   "id": "cd082493-92ee-4445-8f17-15b0fd44a3f0",
   "metadata": {},
   "outputs": [],
   "source": [
    "# drop the rows without useful information, rows do not start with 'http'\n",
    "loaded_df = loaded_df[loaded_df['id'].str.strip().str.lower().str.startswith('http')]"
   ]
  },
  {
   "cell_type": "code",
   "execution_count": 6,
   "id": "bfac9cde-5f75-4b2c-b4c1-04f85b378516",
   "metadata": {},
   "outputs": [
    {
     "name": "stdout",
     "output_type": "stream",
     "text": [
      "   Unnamed: 0                                       id   \n",
      "0           0  http://arxiv.org/abs/cond-mat/0102536v1  \\\n",
      "1           1         http://arxiv.org/abs/0710.5276v1   \n",
      "2           2         http://arxiv.org/abs/0912.3431v1   \n",
      "3           3  http://arxiv.org/abs/cond-mat/0312522v1   \n",
      "4           4  http://arxiv.org/abs/cond-mat/0105367v1   \n",
      "\n",
      "                                               title   \n",
      "0  Impact of Electron-Electron Cusp on Configurat...  \\\n",
      "1  Electronegativity in quantum electronic transport   \n",
      "2  Comment on \"Electron transport through correla...   \n",
      "3                      Correlated Electron Transport   \n",
      "4     Many-Electron Systems with Constrained Current   \n",
      "\n",
      "                                             summary             published   \n",
      "0  The effect of the electron-electron cusp on th...  2001-02-28T20:12:09Z  \\\n",
      "1  Electronegativity is shown to control charge t...  2007-10-28T11:27:36Z   \n",
      "2  The many electron correlated scattering (MECS)...  2009-12-17T18:05:36Z   \n",
      "3  Theoretical and experimental values to date fo...  2003-12-19T11:56:11Z   \n",
      "4  A formulation for transport in an inhomogeneou...  2001-05-18T09:02:21Z   \n",
      "\n",
      "                                             authors   \n",
      "0  ['David Prendergast', 'M. Nolan', 'Claudia Fil...  \\\n",
      "1      ['R. J. Bartlett', 'G. Fagas', 'J. C. Greer']   \n",
      "2          ['J. C. Greer', 'P. Delaney', 'G. Fagas']   \n",
      "3                      ['P. Delaney', 'J. C. Greer']   \n",
      "4                     ['D. S. Kosov', 'J. C. Greer']   \n",
      "\n",
      "                                  pdf_link   \n",
      "0  http://arxiv.org/pdf/cond-mat/0102536v1  \\\n",
      "1         http://arxiv.org/pdf/0710.5276v1   \n",
      "2         http://arxiv.org/pdf/0912.3431v1   \n",
      "3  http://arxiv.org/pdf/cond-mat/0312522v1   \n",
      "4  http://arxiv.org/pdf/cond-mat/0105367v1   \n",
      "\n",
      "                                            pdf_text  \n",
      "0  ['arXiv:cond-mat/0102536v1  [cond-mat.str-el] ...  \n",
      "1  ['arXiv:0710.5276v1  [cond-mat.mes-hall]  28 O...  \n",
      "2  ['Comment on \\\\Electron transport through corr...  \n",
      "3  ['arXiv:cond-mat/0312522v1  19 Dec 2003Correla...  \n",
      "4  ['arXiv:cond-mat/0105367v1  18 May 2001Many-El...  \n"
     ]
    }
   ],
   "source": [
    "print(loaded_df.head())"
   ]
  },
  {
   "cell_type": "code",
   "execution_count": 7,
   "id": "95d49634-5fd0-4d04-b062-06d508b264dc",
   "metadata": {},
   "outputs": [
    {
     "name": "stdout",
     "output_type": "stream",
     "text": [
      "Number of missing values in 'published' column: 0\n"
     ]
    }
   ],
   "source": [
    "# checking missing value in 'published' column\n",
    "print(\"Number of missing values in 'published' column:\", loaded_df['published'].isnull().sum())"
   ]
  },
  {
   "cell_type": "code",
   "execution_count": 8,
   "id": "f12ba7ba-7101-4789-86ad-b4aeb15b60fe",
   "metadata": {},
   "outputs": [
    {
     "name": "stdout",
     "output_type": "stream",
     "text": [
      "Old 'published' column:\n",
      "0    2001-02-28T20:12:09Z\n",
      "1    2007-10-28T11:27:36Z\n",
      "2    2009-12-17T18:05:36Z\n",
      "3    2003-12-19T11:56:11Z\n",
      "4    2001-05-18T09:02:21Z\n",
      "Name: published, dtype: object\n"
     ]
    }
   ],
   "source": [
    "# check the 'published' column before cleaning it\n",
    "print(\"Old 'published' column:\")\n",
    "print(loaded_df['published'].head())"
   ]
  },
  {
   "cell_type": "code",
   "execution_count": 9,
   "id": "7daf7be5-1950-4d82-8472-b53e04b10e5a",
   "metadata": {},
   "outputs": [],
   "source": [
    "# cobvert the 'published' column's data type from 'object' to 'date time'\n",
    "loaded_df['published'] = pd.to_datetime(loaded_df['published'], errors='coerce')"
   ]
  },
  {
   "cell_type": "code",
   "execution_count": 10,
   "id": "c9de4bf7-54c0-47fe-9bd9-4c77be983edc",
   "metadata": {},
   "outputs": [],
   "source": [
    "# Convert into long date format 'Month/Day/Year/'\n",
    "loaded_df['published'] = loaded_df['published'].dt.strftime('%m/%d/%Y')"
   ]
  },
  {
   "cell_type": "code",
   "execution_count": 11,
   "id": "cbfb3664-3ae2-4ad1-8200-d3742ec53982",
   "metadata": {},
   "outputs": [
    {
     "name": "stdout",
     "output_type": "stream",
     "text": [
      "New 'published' column:\n",
      "0    02/28/2001\n",
      "1    10/28/2007\n",
      "2    12/17/2009\n",
      "3    12/19/2003\n",
      "4    05/18/2001\n",
      "Name: published, dtype: object\n"
     ]
    }
   ],
   "source": [
    "# check the new 'published' column\n",
    "print(\"New 'published' column:\")\n",
    "print(loaded_df['published'].head())"
   ]
  },
  {
   "cell_type": "code",
   "execution_count": 12,
   "id": "cd01b4d2-45c6-495b-a142-d6b2959f7d8e",
   "metadata": {},
   "outputs": [
    {
     "name": "stdout",
     "output_type": "stream",
     "text": [
      "                                        id   \n",
      "0  http://arxiv.org/abs/cond-mat/0102536v1  \\\n",
      "1         http://arxiv.org/abs/0710.5276v1   \n",
      "2         http://arxiv.org/abs/0912.3431v1   \n",
      "3  http://arxiv.org/abs/cond-mat/0312522v1   \n",
      "4  http://arxiv.org/abs/cond-mat/0105367v1   \n",
      "\n",
      "                                               title   \n",
      "0  Impact of Electron-Electron Cusp on Configurat...  \\\n",
      "1  Electronegativity in quantum electronic transport   \n",
      "2  Comment on \"Electron transport through correla...   \n",
      "3                      Correlated Electron Transport   \n",
      "4     Many-Electron Systems with Constrained Current   \n",
      "\n",
      "                                             summary   published   \n",
      "0  The effect of the electron-electron cusp on th...  02/28/2001  \\\n",
      "1  Electronegativity is shown to control charge t...  10/28/2007   \n",
      "2  The many electron correlated scattering (MECS)...  12/17/2009   \n",
      "3  Theoretical and experimental values to date fo...  12/19/2003   \n",
      "4  A formulation for transport in an inhomogeneou...  05/18/2001   \n",
      "\n",
      "                                             authors   \n",
      "0  ['David Prendergast', 'M. Nolan', 'Claudia Fil...  \\\n",
      "1      ['R. J. Bartlett', 'G. Fagas', 'J. C. Greer']   \n",
      "2          ['J. C. Greer', 'P. Delaney', 'G. Fagas']   \n",
      "3                      ['P. Delaney', 'J. C. Greer']   \n",
      "4                     ['D. S. Kosov', 'J. C. Greer']   \n",
      "\n",
      "                                  pdf_link   \n",
      "0  http://arxiv.org/pdf/cond-mat/0102536v1  \\\n",
      "1         http://arxiv.org/pdf/0710.5276v1   \n",
      "2         http://arxiv.org/pdf/0912.3431v1   \n",
      "3  http://arxiv.org/pdf/cond-mat/0312522v1   \n",
      "4  http://arxiv.org/pdf/cond-mat/0105367v1   \n",
      "\n",
      "                                            pdf_text  \n",
      "0  ['arXiv:cond-mat/0102536v1  [cond-mat.str-el] ...  \n",
      "1  ['arXiv:0710.5276v1  [cond-mat.mes-hall]  28 O...  \n",
      "2  ['Comment on \\\\Electron transport through corr...  \n",
      "3  ['arXiv:cond-mat/0312522v1  19 Dec 2003Correla...  \n",
      "4  ['arXiv:cond-mat/0105367v1  18 May 2001Many-El...  \n"
     ]
    }
   ],
   "source": [
    "# drop the first column, 'Unnamed' which only contains cardinal numbers, characters, and sentence fragments\n",
    "loaded_df = loaded_df.drop(loaded_df.columns[0], axis=1)\n",
    "# df after dropping the 'Unnamed' column\n",
    "print(loaded_df.head())"
   ]
  },
  {
   "cell_type": "code",
   "execution_count": 23,
   "id": "32ba5582-11f8-4079-835f-995ba4f3bffb",
   "metadata": {},
   "outputs": [],
   "source": [
    "output_csv_path = 'index_clean_full_arXiv_data5.csv'\n",
    "loaded_df.to_csv(output_csv_path, index=True)"
   ]
  },
  {
   "cell_type": "code",
   "execution_count": null,
   "id": "af884167-4724-40fe-b467-ee834a9d7765",
   "metadata": {},
   "outputs": [],
   "source": []
  }
 ],
 "metadata": {
  "kernelspec": {
   "display_name": "Python 3 (ipykernel)",
   "language": "python",
   "name": "python3"
  },
  "language_info": {
   "codemirror_mode": {
    "name": "ipython",
    "version": 3
   },
   "file_extension": ".py",
   "mimetype": "text/x-python",
   "name": "python",
   "nbconvert_exporter": "python",
   "pygments_lexer": "ipython3",
   "version": "3.11.3"
  }
 },
 "nbformat": 4,
 "nbformat_minor": 5
}
